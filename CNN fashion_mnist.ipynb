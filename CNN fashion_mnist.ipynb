{
 "cells": [
  {
   "cell_type": "code",
   "execution_count": 1,
   "id": "ab4a1b40",
   "metadata": {},
   "outputs": [],
   "source": [
    "import pandas as pd\n",
    "import numpy as np\n",
    "import matplotlib.pyplot as plt\n",
    "%matplotlib inline\n",
    "import matplotlib as mpl\n",
    "from tensorflow import keras\n",
    "import tensorflow as tf"
   ]
  },
  {
   "cell_type": "code",
   "execution_count": 2,
   "id": "c7ee4ee5",
   "metadata": {},
   "outputs": [],
   "source": [
    "fashion_mnist = keras.datasets.fashion_mnist"
   ]
  },
  {
   "cell_type": "code",
   "execution_count": 3,
   "id": "62ecd334",
   "metadata": {},
   "outputs": [],
   "source": [
    "(X_train, y_train), (X_test, y_test) = fashion_mnist.load_data()"
   ]
  },
  {
   "cell_type": "code",
   "execution_count": 4,
   "id": "f5f344cf",
   "metadata": {},
   "outputs": [],
   "source": [
    "class_name = [\"T-shirt/top\", \"Trouser\", \"Pullover\", \"Dress\", \"Coat\", \"Sandal\", \"Shirt\", \"Sneaker\", \"Bag\", \"Ankle boot\"]"
   ]
  },
  {
   "cell_type": "code",
   "execution_count": 5,
   "id": "1f6ebc81",
   "metadata": {},
   "outputs": [
    {
     "data": {
      "text/plain": [
       "(60000, 28, 28)"
      ]
     },
     "execution_count": 5,
     "metadata": {},
     "output_type": "execute_result"
    }
   ],
   "source": [
    "X_train.shape"
   ]
  },
  {
   "cell_type": "code",
   "execution_count": 6,
   "id": "bb505ceb",
   "metadata": {},
   "outputs": [
    {
     "data": {
      "text/plain": [
       "(10000, 28, 28)"
      ]
     },
     "execution_count": 6,
     "metadata": {},
     "output_type": "execute_result"
    }
   ],
   "source": [
    "X_test.shape"
   ]
  },
  {
   "cell_type": "markdown",
   "id": "a9639bad",
   "metadata": {},
   "source": [
    "## For CNN we need 3D images"
   ]
  },
  {
   "cell_type": "code",
   "execution_count": null,
   "id": "679d6bed",
   "metadata": {},
   "outputs": [],
   "source": [
    "X_train = X_train.reshape((60000, 28, 28, 1)\n",
    "X_test = X_test.reshape((10000, 28, 28, 1)"
   ]
  },
  {
   "cell_type": "markdown",
   "id": "aa0474af",
   "metadata": {},
   "source": [
    "## Normalization"
   ]
  },
  {
   "cell_type": "code",
   "execution_count": 7,
   "id": "1f9384fa",
   "metadata": {},
   "outputs": [],
   "source": [
    "X_train = X_train/255.0\n",
    "X_test = X_test/255.0"
   ]
  },
  {
   "cell_type": "code",
   "execution_count": 8,
   "id": "26e60fbe",
   "metadata": {},
   "outputs": [],
   "source": [
    "X_valid, X_train = X_train[:5000], X_train[5000:]\n",
    "y_valid, y_train = y_train[:5000], y_train[5000:]\n",
    "X_test = X_test"
   ]
  },
  {
   "cell_type": "code",
   "execution_count": 9,
   "id": "2f90a73a",
   "metadata": {},
   "outputs": [],
   "source": [
    "np.random.seed(50)\n",
    "tf.random.set_seed(50)"
   ]
  },
  {
   "cell_type": "code",
   "execution_count": 11,
   "id": "6bf77f74",
   "metadata": {},
   "outputs": [],
   "source": [
    "model = keras.models.Sequential()\n",
    "\n",
    "model.add(keras.layers.Conv2D(filters = 32,\n",
    "                             kernel_size = (3,3),\n",
    "                             strides = 1,\n",
    "                             padding = \"valid\",\n",
    "                             activation = \"relu\",\n",
    "                             input_shape = (28, 28, 1)))\n",
    "\n",
    "model.add(keras.layers.MaxPooling2D((2, 2)))\n",
    "\n",
    "model.add(keras.layers.Flatten()) #flattern is use to convert 3D array to 1D array\n",
    "model.add(keras.layers.Dense(300, activation = \"relu\"))\n",
    "model.add(keras.layers.Dense(100, activation = \"relu\"))\n",
    "model.add(keras.layers.Dense(10, activation = \"softmax\"))"
   ]
  },
  {
   "cell_type": "code",
   "execution_count": 12,
   "id": "38dc35d3",
   "metadata": {},
   "outputs": [
    {
     "name": "stdout",
     "output_type": "stream",
     "text": [
      "Model: \"sequential_1\"\n",
      "_________________________________________________________________\n",
      " Layer (type)                Output Shape              Param #   \n",
      "=================================================================\n",
      " conv2d (Conv2D)             (None, 26, 26, 32)        320       \n",
      "                                                                 \n",
      " max_pooling2d (MaxPooling2D  (None, 13, 13, 32)       0         \n",
      " )                                                               \n",
      "                                                                 \n",
      " flatten (Flatten)           (None, 5408)              0         \n",
      "                                                                 \n",
      " dense (Dense)               (None, 300)               1622700   \n",
      "                                                                 \n",
      " dense_1 (Dense)             (None, 100)               30100     \n",
      "                                                                 \n",
      " dense_2 (Dense)             (None, 10)                1010      \n",
      "                                                                 \n",
      "=================================================================\n",
      "Total params: 1,654,130\n",
      "Trainable params: 1,654,130\n",
      "Non-trainable params: 0\n",
      "_________________________________________________________________\n"
     ]
    }
   ],
   "source": [
    "model.summary()"
   ]
  },
  {
   "cell_type": "code",
   "execution_count": 13,
   "id": "4099e3bd",
   "metadata": {},
   "outputs": [],
   "source": [
    "model.compile(loss = \"sparse_categorical_crossentropy\", optimizer = \"sgd\", metrics = [\"accuracy\"])"
   ]
  },
  {
   "cell_type": "code",
   "execution_count": 14,
   "id": "673ed737",
   "metadata": {},
   "outputs": [
    {
     "name": "stdout",
     "output_type": "stream",
     "text": [
      "Epoch 1/20\n",
      "860/860 [==============================] - 40s 41ms/step - loss: 0.8839 - accuracy: 0.7041 - val_loss: 0.6064 - val_accuracy: 0.7730\n",
      "Epoch 2/20\n",
      "860/860 [==============================] - 35s 41ms/step - loss: 0.5337 - accuracy: 0.8063 - val_loss: 0.5257 - val_accuracy: 0.8040\n",
      "Epoch 3/20\n",
      "860/860 [==============================] - 37s 43ms/step - loss: 0.4723 - accuracy: 0.8299 - val_loss: 0.4935 - val_accuracy: 0.8158\n",
      "Epoch 4/20\n",
      "860/860 [==============================] - 35s 41ms/step - loss: 0.4358 - accuracy: 0.8443 - val_loss: 0.5210 - val_accuracy: 0.8076\n",
      "Epoch 5/20\n",
      "860/860 [==============================] - 30s 35ms/step - loss: 0.4110 - accuracy: 0.8529 - val_loss: 0.4251 - val_accuracy: 0.8514\n",
      "Epoch 6/20\n",
      "860/860 [==============================] - 30s 35ms/step - loss: 0.3871 - accuracy: 0.8613 - val_loss: 0.3812 - val_accuracy: 0.8630\n",
      "Epoch 7/20\n",
      "860/860 [==============================] - 30s 35ms/step - loss: 0.3681 - accuracy: 0.8681 - val_loss: 0.3651 - val_accuracy: 0.8708\n",
      "Epoch 8/20\n",
      "860/860 [==============================] - 30s 35ms/step - loss: 0.3549 - accuracy: 0.8717 - val_loss: 0.4540 - val_accuracy: 0.8286\n",
      "Epoch 9/20\n",
      "860/860 [==============================] - 30s 35ms/step - loss: 0.3421 - accuracy: 0.8753 - val_loss: 0.3821 - val_accuracy: 0.8544\n",
      "Epoch 10/20\n",
      "860/860 [==============================] - 33s 38ms/step - loss: 0.3311 - accuracy: 0.8793 - val_loss: 0.3322 - val_accuracy: 0.8846\n",
      "Epoch 11/20\n",
      "860/860 [==============================] - 30s 35ms/step - loss: 0.3206 - accuracy: 0.8836 - val_loss: 0.3470 - val_accuracy: 0.8792\n",
      "Epoch 12/20\n",
      "860/860 [==============================] - 31s 36ms/step - loss: 0.3104 - accuracy: 0.8870 - val_loss: 0.3360 - val_accuracy: 0.8828\n",
      "Epoch 13/20\n",
      "860/860 [==============================] - 31s 36ms/step - loss: 0.3028 - accuracy: 0.8899 - val_loss: 0.3242 - val_accuracy: 0.8850\n",
      "Epoch 14/20\n",
      "860/860 [==============================] - 31s 36ms/step - loss: 0.2955 - accuracy: 0.8926 - val_loss: 0.3617 - val_accuracy: 0.8660\n",
      "Epoch 15/20\n",
      "860/860 [==============================] - 33s 38ms/step - loss: 0.2871 - accuracy: 0.8954 - val_loss: 0.3152 - val_accuracy: 0.8862\n",
      "Epoch 16/20\n",
      "860/860 [==============================] - 31s 36ms/step - loss: 0.2803 - accuracy: 0.8966 - val_loss: 0.3074 - val_accuracy: 0.8902\n",
      "Epoch 17/20\n",
      "860/860 [==============================] - 32s 37ms/step - loss: 0.2741 - accuracy: 0.8999 - val_loss: 0.3029 - val_accuracy: 0.8916\n",
      "Epoch 18/20\n",
      "860/860 [==============================] - 32s 38ms/step - loss: 0.2682 - accuracy: 0.9013 - val_loss: 0.2865 - val_accuracy: 0.8958\n",
      "Epoch 19/20\n",
      "860/860 [==============================] - 32s 38ms/step - loss: 0.2628 - accuracy: 0.9045 - val_loss: 0.3397 - val_accuracy: 0.8784\n",
      "Epoch 20/20\n",
      "860/860 [==============================] - 33s 38ms/step - loss: 0.2557 - accuracy: 0.9070 - val_loss: 0.2925 - val_accuracy: 0.8948\n"
     ]
    }
   ],
   "source": [
    "model_history = model.fit(X_train, y_train, epochs = 20, batch_size = 64, validation_data = (X_valid, y_valid))"
   ]
  },
  {
   "cell_type": "code",
   "execution_count": 15,
   "id": "a632a0b5",
   "metadata": {},
   "outputs": [
    {
     "data": {
      "image/png": "[encoded data removed]",
      "text/plain": [
       "<Figure size 576x360 with 1 Axes>"
      ]
     },
     "metadata": {
      "needs_background": "light"
     },
     "output_type": "display_data"
    }
   ],
   "source": [
    "pd.DataFrame(model_history.history).plot(figsize = (8,5))\n",
    "plt.grid(True)\n",
    "plt.gca().set_ylim(0,1)\n",
    "plt.show()"
   ]
  },
  {
   "cell_type": "code",
   "execution_count": 16,
   "id": "eb4fdba5",
   "metadata": {},
   "outputs": [
    {
     "name": "stdout",
     "output_type": "stream",
     "text": [
      "313/313 [==============================] - 3s 9ms/step - loss: 0.3110 - accuracy: 0.8883\n"
     ]
    }
   ],
   "source": [
    "ev = model.evaluate(X_test, y_test)"
   ]
  },
  {
   "cell_type": "code",
   "execution_count": 17,
   "id": "e584fcf4",
   "metadata": {},
   "outputs": [],
   "source": [
    "X_new = X_test[:3]"
   ]
  },
  {
   "cell_type": "code",
   "execution_count": 18,
   "id": "a47849db",
   "metadata": {},
   "outputs": [
    {
     "name": "stdout",
     "output_type": "stream",
     "text": [
      "1/1 [==============================] - 0s 224ms/step\n"
     ]
    },
    {
     "data": {
      "text/plain": [
       "array([[2.3164099e-05, 4.5077027e-06, 1.0404230e-05, 5.1929073e-06,\n",
       "        3.6104582e-05, 4.1274750e-03, 2.1141799e-05, 1.7324887e-02,\n",
       "        5.4033374e-04, 9.7790682e-01],\n",
       "       [4.0385905e-05, 1.5786451e-08, 9.9753630e-01, 6.9782777e-07,\n",
       "        1.7459078e-03, 5.3127285e-09, 6.7641085e-04, 1.1260639e-11,\n",
       "        2.3790581e-07, 8.4056045e-10],\n",
       "       [9.2306703e-07, 9.9998009e-01, 1.7369591e-07, 1.0161416e-05,\n",
       "        8.0530272e-06, 4.8290019e-07, 9.3186550e-08, 1.0971554e-08,\n",
       "        5.6557214e-10, 2.0657558e-10]], dtype=float32)"
      ]
     },
     "execution_count": 18,
     "metadata": {},
     "output_type": "execute_result"
    }
   ],
   "source": [
    "y_pred = model.predict(X_new)\n",
    "y_pred"
   ]
  },
  {
   "cell_type": "code",
   "execution_count": 19,
   "id": "cd409766",
   "metadata": {},
   "outputs": [
    {
     "data": {
      "text/plain": [
       "array([9, 2, 1], dtype=uint8)"
      ]
     },
     "execution_count": 19,
     "metadata": {},
     "output_type": "execute_result"
    }
   ],
   "source": [
    "y_test[:3]"
   ]
  },
  {
   "cell_type": "code",
   "execution_count": 27,
   "id": "29c57ccb",
   "metadata": {},
   "outputs": [
    {
     "data": {
      "text/html": [
       "<div>\n",
       "<style scoped>\n",
       "    .dataframe tbody tr th:only-of-type {\n",
       "        vertical-align: middle;\n",
       "    }\n",
       "\n",
       "    .dataframe tbody tr th {\n",
       "        vertical-align: top;\n",
       "    }\n",
       "\n",
       "    .dataframe thead th {\n",
       "        text-align: right;\n",
       "    }\n",
       "</style>\n",
       "<table border=\"1\" class=\"dataframe\">\n",
       "  <thead>\n",
       "    <tr style=\"text-align: right;\">\n",
       "      <th></th>\n",
       "      <th>0</th>\n",
       "    </tr>\n",
       "  </thead>\n",
       "  <tbody>\n",
       "    <tr>\n",
       "      <th>0</th>\n",
       "      <td>T-shirt/top</td>\n",
       "    </tr>\n",
       "    <tr>\n",
       "      <th>1</th>\n",
       "      <td>Trouser</td>\n",
       "    </tr>\n",
       "    <tr>\n",
       "      <th>2</th>\n",
       "      <td>Pullover</td>\n",
       "    </tr>\n",
       "    <tr>\n",
       "      <th>3</th>\n",
       "      <td>Dress</td>\n",
       "    </tr>\n",
       "    <tr>\n",
       "      <th>4</th>\n",
       "      <td>Coat</td>\n",
       "    </tr>\n",
       "    <tr>\n",
       "      <th>5</th>\n",
       "      <td>Sandal</td>\n",
       "    </tr>\n",
       "    <tr>\n",
       "      <th>6</th>\n",
       "      <td>Shirt</td>\n",
       "    </tr>\n",
       "    <tr>\n",
       "      <th>7</th>\n",
       "      <td>Sneaker</td>\n",
       "    </tr>\n",
       "    <tr>\n",
       "      <th>8</th>\n",
       "      <td>Bag</td>\n",
       "    </tr>\n",
       "    <tr>\n",
       "      <th>9</th>\n",
       "      <td>Ankle boot</td>\n",
       "    </tr>\n",
       "  </tbody>\n",
       "</table>\n",
       "</div>"
      ],
      "text/plain": [
       "             0\n",
       "0  T-shirt/top\n",
       "1      Trouser\n",
       "2     Pullover\n",
       "3        Dress\n",
       "4         Coat\n",
       "5       Sandal\n",
       "6        Shirt\n",
       "7      Sneaker\n",
       "8          Bag\n",
       "9   Ankle boot"
      ]
     },
     "execution_count": 27,
     "metadata": {},
     "output_type": "execute_result"
    }
   ],
   "source": [
    "classes = pd.DataFrame(class_name)\n",
    "classes"
   ]
  },
  {
   "cell_type": "code",
   "execution_count": 21,
   "id": "ee849158",
   "metadata": {},
   "outputs": [
    {
     "data": {
      "text/plain": [
       "<matplotlib.image.AxesImage at 0x2036f6960a0>"
      ]
     },
     "execution_count": 21,
     "metadata": {},
     "output_type": "execute_result"
    },
    {
     "data": {
      "image/png": "[encoded data removed]",
      "text/plain": [
       "<Figure size 432x288 with 1 Axes>"
      ]
     },
     "metadata": {
      "needs_background": "light"
     },
     "output_type": "display_data"
    }
   ],
   "source": [
    "plt.imshow(X_new[0].reshape(28,28))"
   ]
  },
  {
   "cell_type": "code",
   "execution_count": 28,
   "id": "a8ffd732",
   "metadata": {},
   "outputs": [
    {
     "data": {
      "text/plain": [
       "<matplotlib.image.AxesImage at 0x2036eaf79d0>"
      ]
     },
     "execution_count": 28,
     "metadata": {},
     "output_type": "execute_result"
    },
    {
     "data": {
      "image/png": "[encoded data removed]",
      "text/plain": [
       "<Figure size 432x288 with 1 Axes>"
      ]
     },
     "metadata": {
      "needs_background": "light"
     },
     "output_type": "display_data"
    }
   ],
   "source": [
    "plt.imshow(X_new[1].reshape(28,28))"
   ]
  },
  {
   "cell_type": "code",
   "execution_count": 30,
   "id": "32379f41",
   "metadata": {},
   "outputs": [
    {
     "data": {
      "text/plain": [
       "<matplotlib.image.AxesImage at 0x2036ffc0d30>"
      ]
     },
     "execution_count": 30,
     "metadata": {},
     "output_type": "execute_result"
    },
    {
     "data": {
      "image/png": "[encoded data removed]",
      "text/plain": [
       "<Figure size 432x288 with 1 Axes>"
      ]
     },
     "metadata": {
      "needs_background": "light"
     },
     "output_type": "display_data"
    }
   ],
   "source": [
    "plt.imshow(X_new[2].reshape(28,28))"
   ]
  }
 ],
 "metadata": {
  "kernelspec": {
   "display_name": "Python 3 (ipykernel)",
   "language": "python",
   "name": "python3"
  },
  "language_info": {
   "codemirror_mode": {
    "name": "ipython",
    "version": 3
   },
   "file_extension": ".py",
   "mimetype": "text/x-python",
   "name": "python",
   "nbconvert_exporter": "python",
   "pygments_lexer": "ipython3",
   "version": "3.9.7"
  }
 },
 "nbformat": 4,
 "nbformat_minor": 5
}
