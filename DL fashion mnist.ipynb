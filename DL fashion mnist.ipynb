{
 "cells": [
  {
   "cell_type": "code",
   "execution_count": 1,
   "id": "45b38600",
   "metadata": {},
   "outputs": [],
   "source": [
    "import numpy as np\n",
    "import pandas as pd\n",
    "%matplotlib inline\n",
    "import matplotlib.pyplot as plt\n",
    "import matplotlib as mpl"
   ]
  },
  {
   "cell_type": "code",
   "execution_count": 2,
   "id": "da2ff55f",
   "metadata": {},
   "outputs": [],
   "source": [
    "import tensorflow as tf\n",
    "from tensorflow import keras"
   ]
  },
  {
   "cell_type": "code",
   "execution_count": 3,
   "id": "f65cfb2b",
   "metadata": {},
   "outputs": [
    {
     "data": {
      "text/plain": [
       "'2.9.0'"
      ]
     },
     "execution_count": 3,
     "metadata": {},
     "output_type": "execute_result"
    }
   ],
   "source": [
    "keras.__version__"
   ]
  },
  {
   "cell_type": "code",
   "execution_count": 4,
   "id": "2d1709f8",
   "metadata": {},
   "outputs": [
    {
     "data": {
      "text/plain": [
       "'2.9.1'"
      ]
     },
     "execution_count": 4,
     "metadata": {},
     "output_type": "execute_result"
    }
   ],
   "source": [
    "tf.__version__"
   ]
  },
  {
   "cell_type": "markdown",
   "id": "8bd19e44",
   "metadata": {},
   "source": [
    "### Example 1"
   ]
  },
  {
   "cell_type": "code",
   "execution_count": 5,
   "id": "f783b2ba",
   "metadata": {},
   "outputs": [],
   "source": [
    "fashion_mnist = keras.datasets.fashion_mnist\n",
    "(X_train, y_train), (X_test, y_test) = fashion_mnist.load_data()"
   ]
  },
  {
   "cell_type": "code",
   "execution_count": 6,
   "id": "7e41e654",
   "metadata": {},
   "outputs": [
    {
     "data": {
      "text/plain": [
       "<matplotlib.image.AxesImage at 0x1c722d5b1f0>"
      ]
     },
     "execution_count": 6,
     "metadata": {},
     "output_type": "execute_result"
    },
    {
     "data": {
      "image/png": "[encoded data removed]",
      "text/plain": [
       "<Figure size 432x288 with 1 Axes>"
      ]
     },
     "metadata": {
      "needs_background": "light"
     },
     "output_type": "display_data"
    }
   ],
   "source": [
    "plt.imshow(X_train[0])"
   ]
  },
  {
   "cell_type": "code",
   "execution_count": 7,
   "id": "daf9db38",
   "metadata": {},
   "outputs": [
    {
     "data": {
      "text/plain": [
       "9"
      ]
     },
     "execution_count": 7,
     "metadata": {},
     "output_type": "execute_result"
    }
   ],
   "source": [
    "y_train[0]"
   ]
  },
  {
   "cell_type": "markdown",
   "id": "22c6ffe6",
   "metadata": {},
   "source": [
    "##### Label\tDescription\n",
    "* 0\t    T-shirt/top\n",
    "* 1\t    Trouser\n",
    "* 2\t    Pullover\n",
    "* 3\t    Dress\n",
    "* 4\t    Coat\n",
    "* 5\t    Sandal\n",
    "* 6\t    Shirt\n",
    "* 7\t    Sneaker\n",
    "* 8\t    Bag\n",
    "* 9\t    Ankle boot"
   ]
  },
  {
   "cell_type": "code",
   "execution_count": 8,
   "id": "1d0ac37f",
   "metadata": {},
   "outputs": [],
   "source": [
    "class_name = [\"T-shirt/top\", \"Trouser\", \"Pullover\", \"Dress\", \"Coat\", \"Sandal\", \"Shirt\", \"Sneaker\", \"Bag\", \"Ankle boot\"]"
   ]
  },
  {
   "cell_type": "code",
   "execution_count": 9,
   "id": "19bcdec8",
   "metadata": {},
   "outputs": [
    {
     "data": {
      "text/plain": [
       "'Ankle boot'"
      ]
     },
     "execution_count": 9,
     "metadata": {},
     "output_type": "execute_result"
    }
   ],
   "source": [
    "class_name[y_train[0]]"
   ]
  },
  {
   "cell_type": "code",
   "execution_count": 10,
   "id": "e3a8e729",
   "metadata": {},
   "outputs": [
    {
     "data": {
      "text/plain": [
       "array([[  0,   0,   0,   0,   0,   0,   0,   0,   0,   0,   0,   0,   0,\n",
       "          0,   0,   0,   0,   0,   0,   0,   0,   0,   0,   0,   0,   0,\n",
       "          0,   0],\n",
       "       [  0,   0,   0,   0,   0,   0,   0,   0,   0,   0,   0,   0,   0,\n",
       "          0,   0,   0,   0,   0,   0,   0,   0,   0,   0,   0,   0,   0,\n",
       "          0,   0],\n",
       "       [  0,   0,   0,   0,   0,   0,   0,   0,   0,   0,   0,   0,   0,\n",
       "          0,   0,   0,   0,   0,   0,   0,   0,   0,   0,   0,   0,   0,\n",
       "          0,   0],\n",
       "       [  0,   0,   0,   0,   0,   0,   0,   0,   0,   0,   0,   0,   1,\n",
       "          0,   0,  13,  73,   0,   0,   1,   4,   0,   0,   0,   0,   1,\n",
       "          1,   0],\n",
       "       [  0,   0,   0,   0,   0,   0,   0,   0,   0,   0,   0,   0,   3,\n",
       "          0,  36, 136, 127,  62,  54,   0,   0,   0,   1,   3,   4,   0,\n",
       "          0,   3],\n",
       "       [  0,   0,   0,   0,   0,   0,   0,   0,   0,   0,   0,   0,   6,\n",
       "          0, 102, 204, 176, 134, 144, 123,  23,   0,   0,   0,   0,  12,\n",
       "         10,   0],\n",
       "       [  0,   0,   0,   0,   0,   0,   0,   0,   0,   0,   0,   0,   0,\n",
       "          0, 155, 236, 207, 178, 107, 156, 161, 109,  64,  23,  77, 130,\n",
       "         72,  15],\n",
       "       [  0,   0,   0,   0,   0,   0,   0,   0,   0,   0,   0,   1,   0,\n",
       "         69, 207, 223, 218, 216, 216, 163, 127, 121, 122, 146, 141,  88,\n",
       "        172,  66],\n",
       "       [  0,   0,   0,   0,   0,   0,   0,   0,   0,   1,   1,   1,   0,\n",
       "        200, 232, 232, 233, 229, 223, 223, 215, 213, 164, 127, 123, 196,\n",
       "        229,   0],\n",
       "       [  0,   0,   0,   0,   0,   0,   0,   0,   0,   0,   0,   0,   0,\n",
       "        183, 225, 216, 223, 228, 235, 227, 224, 222, 224, 221, 223, 245,\n",
       "        173,   0],\n",
       "       [  0,   0,   0,   0,   0,   0,   0,   0,   0,   0,   0,   0,   0,\n",
       "        193, 228, 218, 213, 198, 180, 212, 210, 211, 213, 223, 220, 243,\n",
       "        202,   0],\n",
       "       [  0,   0,   0,   0,   0,   0,   0,   0,   0,   1,   3,   0,  12,\n",
       "        219, 220, 212, 218, 192, 169, 227, 208, 218, 224, 212, 226, 197,\n",
       "        209,  52],\n",
       "       [  0,   0,   0,   0,   0,   0,   0,   0,   0,   0,   6,   0,  99,\n",
       "        244, 222, 220, 218, 203, 198, 221, 215, 213, 222, 220, 245, 119,\n",
       "        167,  56],\n",
       "       [  0,   0,   0,   0,   0,   0,   0,   0,   0,   4,   0,   0,  55,\n",
       "        236, 228, 230, 228, 240, 232, 213, 218, 223, 234, 217, 217, 209,\n",
       "         92,   0],\n",
       "       [  0,   0,   1,   4,   6,   7,   2,   0,   0,   0,   0,   0, 237,\n",
       "        226, 217, 223, 222, 219, 222, 221, 216, 223, 229, 215, 218, 255,\n",
       "         77,   0],\n",
       "       [  0,   3,   0,   0,   0,   0,   0,   0,   0,  62, 145, 204, 228,\n",
       "        207, 213, 221, 218, 208, 211, 218, 224, 223, 219, 215, 224, 244,\n",
       "        159,   0],\n",
       "       [  0,   0,   0,   0,  18,  44,  82, 107, 189, 228, 220, 222, 217,\n",
       "        226, 200, 205, 211, 230, 224, 234, 176, 188, 250, 248, 233, 238,\n",
       "        215,   0],\n",
       "       [  0,  57, 187, 208, 224, 221, 224, 208, 204, 214, 208, 209, 200,\n",
       "        159, 245, 193, 206, 223, 255, 255, 221, 234, 221, 211, 220, 232,\n",
       "        246,   0],\n",
       "       [  3, 202, 228, 224, 221, 211, 211, 214, 205, 205, 205, 220, 240,\n",
       "         80, 150, 255, 229, 221, 188, 154, 191, 210, 204, 209, 222, 228,\n",
       "        225,   0],\n",
       "       [ 98, 233, 198, 210, 222, 229, 229, 234, 249, 220, 194, 215, 217,\n",
       "        241,  65,  73, 106, 117, 168, 219, 221, 215, 217, 223, 223, 224,\n",
       "        229,  29],\n",
       "       [ 75, 204, 212, 204, 193, 205, 211, 225, 216, 185, 197, 206, 198,\n",
       "        213, 240, 195, 227, 245, 239, 223, 218, 212, 209, 222, 220, 221,\n",
       "        230,  67],\n",
       "       [ 48, 203, 183, 194, 213, 197, 185, 190, 194, 192, 202, 214, 219,\n",
       "        221, 220, 236, 225, 216, 199, 206, 186, 181, 177, 172, 181, 205,\n",
       "        206, 115],\n",
       "       [  0, 122, 219, 193, 179, 171, 183, 196, 204, 210, 213, 207, 211,\n",
       "        210, 200, 196, 194, 191, 195, 191, 198, 192, 176, 156, 167, 177,\n",
       "        210,  92],\n",
       "       [  0,   0,  74, 189, 212, 191, 175, 172, 175, 181, 185, 188, 189,\n",
       "        188, 193, 198, 204, 209, 210, 210, 211, 188, 188, 194, 192, 216,\n",
       "        170,   0],\n",
       "       [  2,   0,   0,   0,  66, 200, 222, 237, 239, 242, 246, 243, 244,\n",
       "        221, 220, 193, 191, 179, 182, 182, 181, 176, 166, 168,  99,  58,\n",
       "          0,   0],\n",
       "       [  0,   0,   0,   0,   0,   0,   0,  40,  61,  44,  72,  41,  35,\n",
       "          0,   0,   0,   0,   0,   0,   0,   0,   0,   0,   0,   0,   0,\n",
       "          0,   0],\n",
       "       [  0,   0,   0,   0,   0,   0,   0,   0,   0,   0,   0,   0,   0,\n",
       "          0,   0,   0,   0,   0,   0,   0,   0,   0,   0,   0,   0,   0,\n",
       "          0,   0],\n",
       "       [  0,   0,   0,   0,   0,   0,   0,   0,   0,   0,   0,   0,   0,\n",
       "          0,   0,   0,   0,   0,   0,   0,   0,   0,   0,   0,   0,   0,\n",
       "          0,   0]], dtype=uint8)"
      ]
     },
     "execution_count": 10,
     "metadata": {},
     "output_type": "execute_result"
    }
   ],
   "source": [
    "X_train[0]"
   ]
  },
  {
   "cell_type": "markdown",
   "id": "f2732376",
   "metadata": {},
   "source": [
    "##### To Normalize Pixel values"
   ]
  },
  {
   "cell_type": "code",
   "execution_count": 11,
   "id": "8420436c",
   "metadata": {},
   "outputs": [],
   "source": [
    "X_train_n = X_train/255\n",
    "X_test_n = X_test/255"
   ]
  },
  {
   "cell_type": "code",
   "execution_count": 12,
   "id": "2f6022a4",
   "metadata": {},
   "outputs": [
    {
     "data": {
      "text/plain": [
       "array([[0.        , 0.        , 0.        , 0.        , 0.        ,\n",
       "        0.        , 0.        , 0.        , 0.        , 0.        ,\n",
       "        0.        , 0.        , 0.        , 0.        , 0.        ,\n",
       "        0.        , 0.        , 0.        , 0.        , 0.        ,\n",
       "        0.        , 0.        , 0.        , 0.        , 0.        ,\n",
       "        0.        , 0.        , 0.        ],\n",
       "       [0.        , 0.        , 0.        , 0.        , 0.        ,\n",
       "        0.        , 0.        , 0.        , 0.        , 0.        ,\n",
       "        0.        , 0.        , 0.        , 0.        , 0.        ,\n",
       "        0.        , 0.        , 0.        , 0.        , 0.        ,\n",
       "        0.        , 0.        , 0.        , 0.        , 0.        ,\n",
       "        0.        , 0.        , 0.        ],\n",
       "       [0.        , 0.        , 0.        , 0.        , 0.        ,\n",
       "        0.        , 0.        , 0.        , 0.        , 0.        ,\n",
       "        0.        , 0.        , 0.        , 0.        , 0.        ,\n",
       "        0.        , 0.        , 0.        , 0.        , 0.        ,\n",
       "        0.        , 0.        , 0.        , 0.        , 0.        ,\n",
       "        0.        , 0.        , 0.        ],\n",
       "       [0.        , 0.        , 0.        , 0.        , 0.        ,\n",
       "        0.        , 0.        , 0.        , 0.        , 0.        ,\n",
       "        0.        , 0.        , 0.00392157, 0.        , 0.        ,\n",
       "        0.05098039, 0.28627451, 0.        , 0.        , 0.00392157,\n",
       "        0.01568627, 0.        , 0.        , 0.        , 0.        ,\n",
       "        0.00392157, 0.00392157, 0.        ],\n",
       "       [0.        , 0.        , 0.        , 0.        , 0.        ,\n",
       "        0.        , 0.        , 0.        , 0.        , 0.        ,\n",
       "        0.        , 0.        , 0.01176471, 0.        , 0.14117647,\n",
       "        0.53333333, 0.49803922, 0.24313725, 0.21176471, 0.        ,\n",
       "        0.        , 0.        , 0.00392157, 0.01176471, 0.01568627,\n",
       "        0.        , 0.        , 0.01176471],\n",
       "       [0.        , 0.        , 0.        , 0.        , 0.        ,\n",
       "        0.        , 0.        , 0.        , 0.        , 0.        ,\n",
       "        0.        , 0.        , 0.02352941, 0.        , 0.4       ,\n",
       "        0.8       , 0.69019608, 0.5254902 , 0.56470588, 0.48235294,\n",
       "        0.09019608, 0.        , 0.        , 0.        , 0.        ,\n",
       "        0.04705882, 0.03921569, 0.        ],\n",
       "       [0.        , 0.        , 0.        , 0.        , 0.        ,\n",
       "        0.        , 0.        , 0.        , 0.        , 0.        ,\n",
       "        0.        , 0.        , 0.        , 0.        , 0.60784314,\n",
       "        0.9254902 , 0.81176471, 0.69803922, 0.41960784, 0.61176471,\n",
       "        0.63137255, 0.42745098, 0.25098039, 0.09019608, 0.30196078,\n",
       "        0.50980392, 0.28235294, 0.05882353],\n",
       "       [0.        , 0.        , 0.        , 0.        , 0.        ,\n",
       "        0.        , 0.        , 0.        , 0.        , 0.        ,\n",
       "        0.        , 0.00392157, 0.        , 0.27058824, 0.81176471,\n",
       "        0.8745098 , 0.85490196, 0.84705882, 0.84705882, 0.63921569,\n",
       "        0.49803922, 0.4745098 , 0.47843137, 0.57254902, 0.55294118,\n",
       "        0.34509804, 0.6745098 , 0.25882353],\n",
       "       [0.        , 0.        , 0.        , 0.        , 0.        ,\n",
       "        0.        , 0.        , 0.        , 0.        , 0.00392157,\n",
       "        0.00392157, 0.00392157, 0.        , 0.78431373, 0.90980392,\n",
       "        0.90980392, 0.91372549, 0.89803922, 0.8745098 , 0.8745098 ,\n",
       "        0.84313725, 0.83529412, 0.64313725, 0.49803922, 0.48235294,\n",
       "        0.76862745, 0.89803922, 0.        ],\n",
       "       [0.        , 0.        , 0.        , 0.        , 0.        ,\n",
       "        0.        , 0.        , 0.        , 0.        , 0.        ,\n",
       "        0.        , 0.        , 0.        , 0.71764706, 0.88235294,\n",
       "        0.84705882, 0.8745098 , 0.89411765, 0.92156863, 0.89019608,\n",
       "        0.87843137, 0.87058824, 0.87843137, 0.86666667, 0.8745098 ,\n",
       "        0.96078431, 0.67843137, 0.        ],\n",
       "       [0.        , 0.        , 0.        , 0.        , 0.        ,\n",
       "        0.        , 0.        , 0.        , 0.        , 0.        ,\n",
       "        0.        , 0.        , 0.        , 0.75686275, 0.89411765,\n",
       "        0.85490196, 0.83529412, 0.77647059, 0.70588235, 0.83137255,\n",
       "        0.82352941, 0.82745098, 0.83529412, 0.8745098 , 0.8627451 ,\n",
       "        0.95294118, 0.79215686, 0.        ],\n",
       "       [0.        , 0.        , 0.        , 0.        , 0.        ,\n",
       "        0.        , 0.        , 0.        , 0.        , 0.00392157,\n",
       "        0.01176471, 0.        , 0.04705882, 0.85882353, 0.8627451 ,\n",
       "        0.83137255, 0.85490196, 0.75294118, 0.6627451 , 0.89019608,\n",
       "        0.81568627, 0.85490196, 0.87843137, 0.83137255, 0.88627451,\n",
       "        0.77254902, 0.81960784, 0.20392157],\n",
       "       [0.        , 0.        , 0.        , 0.        , 0.        ,\n",
       "        0.        , 0.        , 0.        , 0.        , 0.        ,\n",
       "        0.02352941, 0.        , 0.38823529, 0.95686275, 0.87058824,\n",
       "        0.8627451 , 0.85490196, 0.79607843, 0.77647059, 0.86666667,\n",
       "        0.84313725, 0.83529412, 0.87058824, 0.8627451 , 0.96078431,\n",
       "        0.46666667, 0.65490196, 0.21960784],\n",
       "       [0.        , 0.        , 0.        , 0.        , 0.        ,\n",
       "        0.        , 0.        , 0.        , 0.        , 0.01568627,\n",
       "        0.        , 0.        , 0.21568627, 0.9254902 , 0.89411765,\n",
       "        0.90196078, 0.89411765, 0.94117647, 0.90980392, 0.83529412,\n",
       "        0.85490196, 0.8745098 , 0.91764706, 0.85098039, 0.85098039,\n",
       "        0.81960784, 0.36078431, 0.        ],\n",
       "       [0.        , 0.        , 0.00392157, 0.01568627, 0.02352941,\n",
       "        0.02745098, 0.00784314, 0.        , 0.        , 0.        ,\n",
       "        0.        , 0.        , 0.92941176, 0.88627451, 0.85098039,\n",
       "        0.8745098 , 0.87058824, 0.85882353, 0.87058824, 0.86666667,\n",
       "        0.84705882, 0.8745098 , 0.89803922, 0.84313725, 0.85490196,\n",
       "        1.        , 0.30196078, 0.        ],\n",
       "       [0.        , 0.01176471, 0.        , 0.        , 0.        ,\n",
       "        0.        , 0.        , 0.        , 0.        , 0.24313725,\n",
       "        0.56862745, 0.8       , 0.89411765, 0.81176471, 0.83529412,\n",
       "        0.86666667, 0.85490196, 0.81568627, 0.82745098, 0.85490196,\n",
       "        0.87843137, 0.8745098 , 0.85882353, 0.84313725, 0.87843137,\n",
       "        0.95686275, 0.62352941, 0.        ],\n",
       "       [0.        , 0.        , 0.        , 0.        , 0.07058824,\n",
       "        0.17254902, 0.32156863, 0.41960784, 0.74117647, 0.89411765,\n",
       "        0.8627451 , 0.87058824, 0.85098039, 0.88627451, 0.78431373,\n",
       "        0.80392157, 0.82745098, 0.90196078, 0.87843137, 0.91764706,\n",
       "        0.69019608, 0.7372549 , 0.98039216, 0.97254902, 0.91372549,\n",
       "        0.93333333, 0.84313725, 0.        ],\n",
       "       [0.        , 0.22352941, 0.73333333, 0.81568627, 0.87843137,\n",
       "        0.86666667, 0.87843137, 0.81568627, 0.8       , 0.83921569,\n",
       "        0.81568627, 0.81960784, 0.78431373, 0.62352941, 0.96078431,\n",
       "        0.75686275, 0.80784314, 0.8745098 , 1.        , 1.        ,\n",
       "        0.86666667, 0.91764706, 0.86666667, 0.82745098, 0.8627451 ,\n",
       "        0.90980392, 0.96470588, 0.        ],\n",
       "       [0.01176471, 0.79215686, 0.89411765, 0.87843137, 0.86666667,\n",
       "        0.82745098, 0.82745098, 0.83921569, 0.80392157, 0.80392157,\n",
       "        0.80392157, 0.8627451 , 0.94117647, 0.31372549, 0.58823529,\n",
       "        1.        , 0.89803922, 0.86666667, 0.7372549 , 0.60392157,\n",
       "        0.74901961, 0.82352941, 0.8       , 0.81960784, 0.87058824,\n",
       "        0.89411765, 0.88235294, 0.        ],\n",
       "       [0.38431373, 0.91372549, 0.77647059, 0.82352941, 0.87058824,\n",
       "        0.89803922, 0.89803922, 0.91764706, 0.97647059, 0.8627451 ,\n",
       "        0.76078431, 0.84313725, 0.85098039, 0.94509804, 0.25490196,\n",
       "        0.28627451, 0.41568627, 0.45882353, 0.65882353, 0.85882353,\n",
       "        0.86666667, 0.84313725, 0.85098039, 0.8745098 , 0.8745098 ,\n",
       "        0.87843137, 0.89803922, 0.11372549],\n",
       "       [0.29411765, 0.8       , 0.83137255, 0.8       , 0.75686275,\n",
       "        0.80392157, 0.82745098, 0.88235294, 0.84705882, 0.7254902 ,\n",
       "        0.77254902, 0.80784314, 0.77647059, 0.83529412, 0.94117647,\n",
       "        0.76470588, 0.89019608, 0.96078431, 0.9372549 , 0.8745098 ,\n",
       "        0.85490196, 0.83137255, 0.81960784, 0.87058824, 0.8627451 ,\n",
       "        0.86666667, 0.90196078, 0.2627451 ],\n",
       "       [0.18823529, 0.79607843, 0.71764706, 0.76078431, 0.83529412,\n",
       "        0.77254902, 0.7254902 , 0.74509804, 0.76078431, 0.75294118,\n",
       "        0.79215686, 0.83921569, 0.85882353, 0.86666667, 0.8627451 ,\n",
       "        0.9254902 , 0.88235294, 0.84705882, 0.78039216, 0.80784314,\n",
       "        0.72941176, 0.70980392, 0.69411765, 0.6745098 , 0.70980392,\n",
       "        0.80392157, 0.80784314, 0.45098039],\n",
       "       [0.        , 0.47843137, 0.85882353, 0.75686275, 0.70196078,\n",
       "        0.67058824, 0.71764706, 0.76862745, 0.8       , 0.82352941,\n",
       "        0.83529412, 0.81176471, 0.82745098, 0.82352941, 0.78431373,\n",
       "        0.76862745, 0.76078431, 0.74901961, 0.76470588, 0.74901961,\n",
       "        0.77647059, 0.75294118, 0.69019608, 0.61176471, 0.65490196,\n",
       "        0.69411765, 0.82352941, 0.36078431],\n",
       "       [0.        , 0.        , 0.29019608, 0.74117647, 0.83137255,\n",
       "        0.74901961, 0.68627451, 0.6745098 , 0.68627451, 0.70980392,\n",
       "        0.7254902 , 0.7372549 , 0.74117647, 0.7372549 , 0.75686275,\n",
       "        0.77647059, 0.8       , 0.81960784, 0.82352941, 0.82352941,\n",
       "        0.82745098, 0.7372549 , 0.7372549 , 0.76078431, 0.75294118,\n",
       "        0.84705882, 0.66666667, 0.        ],\n",
       "       [0.00784314, 0.        , 0.        , 0.        , 0.25882353,\n",
       "        0.78431373, 0.87058824, 0.92941176, 0.9372549 , 0.94901961,\n",
       "        0.96470588, 0.95294118, 0.95686275, 0.86666667, 0.8627451 ,\n",
       "        0.75686275, 0.74901961, 0.70196078, 0.71372549, 0.71372549,\n",
       "        0.70980392, 0.69019608, 0.65098039, 0.65882353, 0.38823529,\n",
       "        0.22745098, 0.        , 0.        ],\n",
       "       [0.        , 0.        , 0.        , 0.        , 0.        ,\n",
       "        0.        , 0.        , 0.15686275, 0.23921569, 0.17254902,\n",
       "        0.28235294, 0.16078431, 0.1372549 , 0.        , 0.        ,\n",
       "        0.        , 0.        , 0.        , 0.        , 0.        ,\n",
       "        0.        , 0.        , 0.        , 0.        , 0.        ,\n",
       "        0.        , 0.        , 0.        ],\n",
       "       [0.        , 0.        , 0.        , 0.        , 0.        ,\n",
       "        0.        , 0.        , 0.        , 0.        , 0.        ,\n",
       "        0.        , 0.        , 0.        , 0.        , 0.        ,\n",
       "        0.        , 0.        , 0.        , 0.        , 0.        ,\n",
       "        0.        , 0.        , 0.        , 0.        , 0.        ,\n",
       "        0.        , 0.        , 0.        ],\n",
       "       [0.        , 0.        , 0.        , 0.        , 0.        ,\n",
       "        0.        , 0.        , 0.        , 0.        , 0.        ,\n",
       "        0.        , 0.        , 0.        , 0.        , 0.        ,\n",
       "        0.        , 0.        , 0.        , 0.        , 0.        ,\n",
       "        0.        , 0.        , 0.        , 0.        , 0.        ,\n",
       "        0.        , 0.        , 0.        ]])"
      ]
     },
     "execution_count": 12,
     "metadata": {},
     "output_type": "execute_result"
    }
   ],
   "source": [
    "X_train_n[0]"
   ]
  },
  {
   "cell_type": "code",
   "execution_count": 13,
   "id": "6a3839a6",
   "metadata": {},
   "outputs": [
    {
     "name": "stdout",
     "output_type": "stream",
     "text": [
      "(60000, 28, 28)\n",
      "(60000,)\n",
      "(10000, 28, 28)\n",
      "(10000,)\n"
     ]
    }
   ],
   "source": [
    "print(X_train_n.shape)\n",
    "print(y_train.shape)\n",
    "print(X_test_n.shape)\n",
    "print(y_test.shape)"
   ]
  },
  {
   "cell_type": "markdown",
   "id": "fa01c153",
   "metadata": {},
   "source": [
    "#### split\n",
    "* training data - for training model\n",
    "* validation data - for hyperparameter tuning\n",
    "* test data - for test model"
   ]
  },
  {
   "cell_type": "code",
   "execution_count": 14,
   "id": "24d590d6",
   "metadata": {},
   "outputs": [],
   "source": [
    "X_valid, X_train = X_train_n[:5000], X_train_n[5000:]\n",
    "y_valid, y_train = y_train[:5000], y_train[5000:]\n",
    "X_test = X_test_n"
   ]
  },
  {
   "cell_type": "code",
   "execution_count": 15,
   "id": "ae2fa8ac",
   "metadata": {},
   "outputs": [
    {
     "name": "stdout",
     "output_type": "stream",
     "text": [
      "X_valid :  (5000, 28, 28)\n",
      "y_valid :  (5000,)\n",
      "X_train :  (55000, 28, 28)\n",
      "y_train :  (55000,)\n",
      "X_test :  (10000, 28, 28)\n"
     ]
    }
   ],
   "source": [
    "print(\"X_valid : \", X_valid.shape)\n",
    "print(\"y_valid : \", y_valid.shape)\n",
    "print(\"X_train : \", X_train.shape)\n",
    "print(\"y_train : \", y_train.shape)\n",
    "print(\"X_test : \",  X_test.shape)"
   ]
  },
  {
   "cell_type": "markdown",
   "id": "8731ef17",
   "metadata": {},
   "source": [
    "#### Model Architecture\n",
    "* Sequential model API\n",
    "* Functional API"
   ]
  },
  {
   "cell_type": "code",
   "execution_count": 16,
   "id": "65f10655",
   "metadata": {},
   "outputs": [],
   "source": [
    "np.random.seed(50)\n",
    "tf.random.set_seed(50)"
   ]
  },
  {
   "cell_type": "code",
   "execution_count": 17,
   "id": "e1ff7e6d",
   "metadata": {},
   "outputs": [],
   "source": [
    "model = keras.models.Sequential()\n",
    "model.add(keras.layers.Flatten(input_shape = [28,28])) #1st i/p layer\n",
    "model.add(keras.layers.Dense(300, activation=\"relu\")) #2nd hidden layer with 300 neurons\n",
    "model.add(keras.layers.Dense(100, activation=\"relu\")) #3rd hidden layer with 100 newron\n",
    "model.add(keras.layers.Dense(10, activation=\"softmax\")) #4th o/p layer"
   ]
  },
  {
   "cell_type": "code",
   "execution_count": 18,
   "id": "d57a54a0",
   "metadata": {},
   "outputs": [
    {
     "name": "stdout",
     "output_type": "stream",
     "text": [
      "Model: \"sequential\"\n",
      "_________________________________________________________________\n",
      " Layer (type)                Output Shape              Param #   \n",
      "=================================================================\n",
      " flatten (Flatten)           (None, 784)               0         \n",
      "                                                                 \n",
      " dense (Dense)               (None, 300)               235500    \n",
      "                                                                 \n",
      " dense_1 (Dense)             (None, 100)               30100     \n",
      "                                                                 \n",
      " dense_2 (Dense)             (None, 10)                1010      \n",
      "                                                                 \n",
      "=================================================================\n",
      "Total params: 266,610\n",
      "Trainable params: 266,610\n",
      "Non-trainable params: 0\n",
      "_________________________________________________________________\n"
     ]
    }
   ],
   "source": [
    "model.summary()"
   ]
  },
  {
   "cell_type": "markdown",
   "id": "ef9aa7c1",
   "metadata": {},
   "source": [
    "#### how this neural network looks like"
   ]
  },
  {
   "cell_type": "code",
   "execution_count": 19,
   "id": "93b7852d",
   "metadata": {},
   "outputs": [
    {
     "name": "stdout",
     "output_type": "stream",
     "text": [
      "You must install pydot (`pip install pydot`) and install graphviz (see instructions at https://graphviz.gitlab.io/download/) for plot_model/model_to_dot to work.\n"
     ]
    }
   ],
   "source": [
    "import pydot\n",
    "keras.utils.plot_model(model)"
   ]
  },
  {
   "cell_type": "code",
   "execution_count": 20,
   "id": "1f094114",
   "metadata": {},
   "outputs": [],
   "source": [
    "weights, biases = model.layers[1].get_weights()"
   ]
  },
  {
   "cell_type": "code",
   "execution_count": 21,
   "id": "8dabb1a1",
   "metadata": {},
   "outputs": [
    {
     "data": {
      "text/plain": [
       "array([[ 0.06576201, -0.04914269,  0.00096661, ...,  0.0651318 ,\n",
       "         0.05588472,  0.0466601 ],\n",
       "       [-0.06763463, -0.03657489,  0.04651227, ...,  0.06411633,\n",
       "        -0.07358228, -0.06734485],\n",
       "       [-0.02266569,  0.00460225,  0.04659034, ...,  0.07085481,\n",
       "        -0.05355682, -0.03729332],\n",
       "       ...,\n",
       "       [ 0.05013792, -0.05937459,  0.0361096 , ..., -0.0524639 ,\n",
       "        -0.07408459, -0.02616028],\n",
       "       [ 0.03949948, -0.06802096, -0.05456859, ...,  0.07285774,\n",
       "        -0.01218222,  0.06814401],\n",
       "       [-0.06680883,  0.00113332,  0.05371693, ..., -0.06296772,\n",
       "         0.03635902, -0.06184549]], dtype=float32)"
      ]
     },
     "execution_count": 21,
     "metadata": {},
     "output_type": "execute_result"
    }
   ],
   "source": [
    "weights"
   ]
  },
  {
   "cell_type": "code",
   "execution_count": 22,
   "id": "211841bb",
   "metadata": {},
   "outputs": [
    {
     "data": {
      "text/plain": [
       "(784, 300)"
      ]
     },
     "execution_count": 22,
     "metadata": {},
     "output_type": "execute_result"
    }
   ],
   "source": [
    "weights.shape"
   ]
  },
  {
   "cell_type": "code",
   "execution_count": 23,
   "id": "06fc1059",
   "metadata": {},
   "outputs": [
    {
     "data": {
      "text/plain": [
       "array([0., 0., 0., 0., 0., 0., 0., 0., 0., 0., 0., 0., 0., 0., 0., 0., 0.,\n",
       "       0., 0., 0., 0., 0., 0., 0., 0., 0., 0., 0., 0., 0., 0., 0., 0., 0.,\n",
       "       0., 0., 0., 0., 0., 0., 0., 0., 0., 0., 0., 0., 0., 0., 0., 0., 0.,\n",
       "       0., 0., 0., 0., 0., 0., 0., 0., 0., 0., 0., 0., 0., 0., 0., 0., 0.,\n",
       "       0., 0., 0., 0., 0., 0., 0., 0., 0., 0., 0., 0., 0., 0., 0., 0., 0.,\n",
       "       0., 0., 0., 0., 0., 0., 0., 0., 0., 0., 0., 0., 0., 0., 0., 0., 0.,\n",
       "       0., 0., 0., 0., 0., 0., 0., 0., 0., 0., 0., 0., 0., 0., 0., 0., 0.,\n",
       "       0., 0., 0., 0., 0., 0., 0., 0., 0., 0., 0., 0., 0., 0., 0., 0., 0.,\n",
       "       0., 0., 0., 0., 0., 0., 0., 0., 0., 0., 0., 0., 0., 0., 0., 0., 0.,\n",
       "       0., 0., 0., 0., 0., 0., 0., 0., 0., 0., 0., 0., 0., 0., 0., 0., 0.,\n",
       "       0., 0., 0., 0., 0., 0., 0., 0., 0., 0., 0., 0., 0., 0., 0., 0., 0.,\n",
       "       0., 0., 0., 0., 0., 0., 0., 0., 0., 0., 0., 0., 0., 0., 0., 0., 0.,\n",
       "       0., 0., 0., 0., 0., 0., 0., 0., 0., 0., 0., 0., 0., 0., 0., 0., 0.,\n",
       "       0., 0., 0., 0., 0., 0., 0., 0., 0., 0., 0., 0., 0., 0., 0., 0., 0.,\n",
       "       0., 0., 0., 0., 0., 0., 0., 0., 0., 0., 0., 0., 0., 0., 0., 0., 0.,\n",
       "       0., 0., 0., 0., 0., 0., 0., 0., 0., 0., 0., 0., 0., 0., 0., 0., 0.,\n",
       "       0., 0., 0., 0., 0., 0., 0., 0., 0., 0., 0., 0., 0., 0., 0., 0., 0.,\n",
       "       0., 0., 0., 0., 0., 0., 0., 0., 0., 0., 0.], dtype=float32)"
      ]
     },
     "execution_count": 23,
     "metadata": {},
     "output_type": "execute_result"
    }
   ],
   "source": [
    "biases"
   ]
  },
  {
   "cell_type": "code",
   "execution_count": 24,
   "id": "9cba115c",
   "metadata": {},
   "outputs": [
    {
     "data": {
      "text/plain": [
       "(300,)"
      ]
     },
     "execution_count": 24,
     "metadata": {},
     "output_type": "execute_result"
    }
   ],
   "source": [
    "biases.shape"
   ]
  },
  {
   "cell_type": "markdown",
   "id": "8bb3785c",
   "metadata": {},
   "source": [
    "#### Setting up learning processes"
   ]
  },
  {
   "cell_type": "code",
   "execution_count": 25,
   "id": "ad08a71d",
   "metadata": {},
   "outputs": [],
   "source": [
    "model.compile(loss = \"sparse_categorical_crossentropy\", optimizer = \"sgd\", metrics = [\"accuracy\"])"
   ]
  },
  {
   "cell_type": "markdown",
   "id": "8ef3a63e",
   "metadata": {},
   "source": [
    "#### Fitting X_train and y_train data"
   ]
  },
  {
   "cell_type": "code",
   "execution_count": 26,
   "id": "5a4cc155",
   "metadata": {},
   "outputs": [
    {
     "name": "stdout",
     "output_type": "stream",
     "text": [
      "Epoch 1/50\n",
      "1719/1719 [==============================] - 7s 3ms/step - loss: 0.7221 - accuracy: 0.7610 - val_loss: 0.5177 - val_accuracy: 0.8220\n",
      "Epoch 2/50\n",
      "1719/1719 [==============================] - 5s 3ms/step - loss: 0.4896 - accuracy: 0.8279 - val_loss: 0.4464 - val_accuracy: 0.8462\n",
      "Epoch 3/50\n",
      "1719/1719 [==============================] - 6s 3ms/step - loss: 0.4438 - accuracy: 0.8444 - val_loss: 0.4419 - val_accuracy: 0.8464\n",
      "Epoch 4/50\n",
      "1719/1719 [==============================] - 5s 3ms/step - loss: 0.4162 - accuracy: 0.8521 - val_loss: 0.4058 - val_accuracy: 0.8586\n",
      "Epoch 5/50\n",
      "1719/1719 [==============================] - 5s 3ms/step - loss: 0.3967 - accuracy: 0.8588 - val_loss: 0.4007 - val_accuracy: 0.8618\n",
      "Epoch 6/50\n",
      "1719/1719 [==============================] - 5s 3ms/step - loss: 0.3791 - accuracy: 0.8657 - val_loss: 0.3695 - val_accuracy: 0.8722\n",
      "Epoch 7/50\n",
      "1719/1719 [==============================] - 5s 3ms/step - loss: 0.3657 - accuracy: 0.8696 - val_loss: 0.3782 - val_accuracy: 0.8676\n",
      "Epoch 8/50\n",
      "1719/1719 [==============================] - 5s 3ms/step - loss: 0.3556 - accuracy: 0.8725 - val_loss: 0.3764 - val_accuracy: 0.8670\n",
      "Epoch 9/50\n",
      "1719/1719 [==============================] - 6s 3ms/step - loss: 0.3448 - accuracy: 0.8769 - val_loss: 0.3771 - val_accuracy: 0.8624\n",
      "Epoch 10/50\n",
      "1719/1719 [==============================] - 6s 3ms/step - loss: 0.3365 - accuracy: 0.8793 - val_loss: 0.3489 - val_accuracy: 0.8768\n",
      "Epoch 11/50\n",
      "1719/1719 [==============================] - 5s 3ms/step - loss: 0.3276 - accuracy: 0.8834 - val_loss: 0.3470 - val_accuracy: 0.8760\n",
      "Epoch 12/50\n",
      "1719/1719 [==============================] - 5s 3ms/step - loss: 0.3196 - accuracy: 0.8852 - val_loss: 0.3566 - val_accuracy: 0.8764\n",
      "Epoch 13/50\n",
      "1719/1719 [==============================] - 5s 3ms/step - loss: 0.3124 - accuracy: 0.8880 - val_loss: 0.3325 - val_accuracy: 0.8814\n",
      "Epoch 14/50\n",
      "1719/1719 [==============================] - 5s 3ms/step - loss: 0.3061 - accuracy: 0.8898 - val_loss: 0.3464 - val_accuracy: 0.8778\n",
      "Epoch 15/50\n",
      "1719/1719 [==============================] - 5s 3ms/step - loss: 0.2993 - accuracy: 0.8925 - val_loss: 0.3270 - val_accuracy: 0.8844\n",
      "Epoch 16/50\n",
      "1719/1719 [==============================] - 5s 3ms/step - loss: 0.2942 - accuracy: 0.8933 - val_loss: 0.3273 - val_accuracy: 0.8826\n",
      "Epoch 17/50\n",
      "1719/1719 [==============================] - 5s 3ms/step - loss: 0.2880 - accuracy: 0.8973 - val_loss: 0.3211 - val_accuracy: 0.8886\n",
      "Epoch 18/50\n",
      "1719/1719 [==============================] - 5s 3ms/step - loss: 0.2820 - accuracy: 0.8980 - val_loss: 0.3172 - val_accuracy: 0.8900\n",
      "Epoch 19/50\n",
      "1719/1719 [==============================] - 6s 3ms/step - loss: 0.2778 - accuracy: 0.8993 - val_loss: 0.3285 - val_accuracy: 0.8838\n",
      "Epoch 20/50\n",
      "1719/1719 [==============================] - 6s 3ms/step - loss: 0.2723 - accuracy: 0.9011 - val_loss: 0.3082 - val_accuracy: 0.8922\n",
      "Epoch 21/50\n",
      "1719/1719 [==============================] - 6s 3ms/step - loss: 0.2673 - accuracy: 0.9033 - val_loss: 0.3190 - val_accuracy: 0.8862\n",
      "Epoch 22/50\n",
      "1719/1719 [==============================] - 6s 3ms/step - loss: 0.2621 - accuracy: 0.9056 - val_loss: 0.3203 - val_accuracy: 0.8844\n",
      "Epoch 23/50\n",
      "1719/1719 [==============================] - 6s 3ms/step - loss: 0.2576 - accuracy: 0.9068 - val_loss: 0.3102 - val_accuracy: 0.8894\n",
      "Epoch 24/50\n",
      "1719/1719 [==============================] - 6s 3ms/step - loss: 0.2533 - accuracy: 0.9081 - val_loss: 0.3232 - val_accuracy: 0.8866\n",
      "Epoch 25/50\n",
      "1719/1719 [==============================] - 6s 3ms/step - loss: 0.2499 - accuracy: 0.9100 - val_loss: 0.3116 - val_accuracy: 0.8868\n",
      "Epoch 26/50\n",
      "1719/1719 [==============================] - 6s 3ms/step - loss: 0.2453 - accuracy: 0.9116 - val_loss: 0.3102 - val_accuracy: 0.8870\n",
      "Epoch 27/50\n",
      "1719/1719 [==============================] - 5s 3ms/step - loss: 0.2416 - accuracy: 0.9129 - val_loss: 0.3375 - val_accuracy: 0.8830\n",
      "Epoch 28/50\n",
      "1719/1719 [==============================] - 6s 3ms/step - loss: 0.2380 - accuracy: 0.9139 - val_loss: 0.2980 - val_accuracy: 0.8932\n",
      "Epoch 29/50\n",
      "1719/1719 [==============================] - 5s 3ms/step - loss: 0.2348 - accuracy: 0.9148 - val_loss: 0.3106 - val_accuracy: 0.8864\n",
      "Epoch 30/50\n",
      "1719/1719 [==============================] - 6s 3ms/step - loss: 0.2295 - accuracy: 0.9169 - val_loss: 0.3190 - val_accuracy: 0.8818\n",
      "Epoch 31/50\n",
      "1719/1719 [==============================] - 5s 3ms/step - loss: 0.2274 - accuracy: 0.9183 - val_loss: 0.3089 - val_accuracy: 0.8908\n",
      "Epoch 32/50\n",
      "1719/1719 [==============================] - 6s 4ms/step - loss: 0.2224 - accuracy: 0.9196 - val_loss: 0.3052 - val_accuracy: 0.8900\n",
      "Epoch 33/50\n",
      "1719/1719 [==============================] - 6s 3ms/step - loss: 0.2183 - accuracy: 0.9217 - val_loss: 0.3080 - val_accuracy: 0.8922\n",
      "Epoch 34/50\n",
      "1719/1719 [==============================] - 6s 3ms/step - loss: 0.2152 - accuracy: 0.9238 - val_loss: 0.3270 - val_accuracy: 0.8814\n",
      "Epoch 35/50\n",
      "1719/1719 [==============================] - 5s 3ms/step - loss: 0.2129 - accuracy: 0.9227 - val_loss: 0.2883 - val_accuracy: 0.8952\n",
      "Epoch 36/50\n",
      "1719/1719 [==============================] - 6s 3ms/step - loss: 0.2103 - accuracy: 0.9229 - val_loss: 0.3042 - val_accuracy: 0.8940\n",
      "Epoch 37/50\n",
      "1719/1719 [==============================] - 6s 3ms/step - loss: 0.2059 - accuracy: 0.9262 - val_loss: 0.3096 - val_accuracy: 0.8872\n",
      "Epoch 38/50\n",
      "1719/1719 [==============================] - 5s 3ms/step - loss: 0.2032 - accuracy: 0.9281 - val_loss: 0.3094 - val_accuracy: 0.8942\n",
      "Epoch 39/50\n",
      "1719/1719 [==============================] - 6s 3ms/step - loss: 0.2004 - accuracy: 0.9289 - val_loss: 0.3039 - val_accuracy: 0.8912\n",
      "Epoch 40/50\n",
      "1719/1719 [==============================] - 6s 3ms/step - loss: 0.1969 - accuracy: 0.9285 - val_loss: 0.2949 - val_accuracy: 0.8952\n",
      "Epoch 41/50\n",
      "1719/1719 [==============================] - 6s 3ms/step - loss: 0.1943 - accuracy: 0.9300 - val_loss: 0.2933 - val_accuracy: 0.8928\n",
      "Epoch 42/50\n",
      "1719/1719 [==============================] - 5s 3ms/step - loss: 0.1909 - accuracy: 0.9323 - val_loss: 0.2960 - val_accuracy: 0.8978\n",
      "Epoch 43/50\n",
      "1719/1719 [==============================] - 6s 3ms/step - loss: 0.1877 - accuracy: 0.9333 - val_loss: 0.3123 - val_accuracy: 0.8858\n",
      "Epoch 44/50\n",
      "1719/1719 [==============================] - 6s 3ms/step - loss: 0.1853 - accuracy: 0.9341 - val_loss: 0.2933 - val_accuracy: 0.8984\n",
      "Epoch 45/50\n",
      "1719/1719 [==============================] - 5s 3ms/step - loss: 0.1822 - accuracy: 0.9353 - val_loss: 0.2953 - val_accuracy: 0.8958\n",
      "Epoch 46/50\n",
      "1719/1719 [==============================] - 6s 3ms/step - loss: 0.1801 - accuracy: 0.9353 - val_loss: 0.3045 - val_accuracy: 0.8940\n",
      "Epoch 47/50\n",
      "1719/1719 [==============================] - 6s 3ms/step - loss: 0.1766 - accuracy: 0.9374 - val_loss: 0.2942 - val_accuracy: 0.8958\n",
      "Epoch 48/50\n",
      "1719/1719 [==============================] - 6s 4ms/step - loss: 0.1747 - accuracy: 0.9379 - val_loss: 0.2839 - val_accuracy: 0.9010\n",
      "Epoch 49/50\n",
      "1719/1719 [==============================] - 6s 3ms/step - loss: 0.1709 - accuracy: 0.9397 - val_loss: 0.3054 - val_accuracy: 0.8886\n",
      "Epoch 50/50\n",
      "1719/1719 [==============================] - 6s 3ms/step - loss: 0.1690 - accuracy: 0.9399 - val_loss: 0.2920 - val_accuracy: 0.8988\n"
     ]
    }
   ],
   "source": [
    "model_history = model.fit(X_train, y_train, epochs = 50, validation_data = (X_valid, y_valid))"
   ]
  },
  {
   "cell_type": "code",
   "execution_count": 27,
   "id": "af81b8d7",
   "metadata": {},
   "outputs": [
    {
     "data": {
      "text/plain": [
       "{'verbose': 1, 'epochs': 50, 'steps': 1719}"
      ]
     },
     "execution_count": 27,
     "metadata": {},
     "output_type": "execute_result"
    }
   ],
   "source": [
    "model_history.params"
   ]
  },
  {
   "cell_type": "code",
   "execution_count": 28,
   "id": "fd46aacd",
   "metadata": {},
   "outputs": [
    {
     "data": {
      "text/plain": [
       "{'loss': [0.7220650315284729,\n",
       "  0.4896458387374878,\n",
       "  0.4438323378562927,\n",
       "  0.41616129875183105,\n",
       "  0.39671066403388977,\n",
       "  0.37913939356803894,\n",
       "  0.36569446325302124,\n",
       "  0.355613112449646,\n",
       "  0.34480056166648865,\n",
       "  0.33645111322402954,\n",
       "  0.32762858271598816,\n",
       "  0.31960025429725647,\n",
       "  0.3124428689479828,\n",
       "  0.306143194437027,\n",
       "  0.29925617575645447,\n",
       "  0.29423078894615173,\n",
       "  0.28803080320358276,\n",
       "  0.28196200728416443,\n",
       "  0.2777722477912903,\n",
       "  0.27233269810676575,\n",
       "  0.2672647535800934,\n",
       "  0.2621464133262634,\n",
       "  0.25764063000679016,\n",
       "  0.2533150315284729,\n",
       "  0.24988751113414764,\n",
       "  0.2453133910894394,\n",
       "  0.24161767959594727,\n",
       "  0.2379600554704666,\n",
       "  0.23476900160312653,\n",
       "  0.22950735688209534,\n",
       "  0.22742953896522522,\n",
       "  0.2224421352148056,\n",
       "  0.21825459599494934,\n",
       "  0.21518540382385254,\n",
       "  0.21286708116531372,\n",
       "  0.21028299629688263,\n",
       "  0.20590722560882568,\n",
       "  0.20319156348705292,\n",
       "  0.2003938853740692,\n",
       "  0.19691674411296844,\n",
       "  0.19432444870471954,\n",
       "  0.19090573489665985,\n",
       "  0.1876537799835205,\n",
       "  0.18527953326702118,\n",
       "  0.18220730125904083,\n",
       "  0.1800859421491623,\n",
       "  0.17663046717643738,\n",
       "  0.17469945549964905,\n",
       "  0.17092935740947723,\n",
       "  0.1690140813589096],\n",
       " 'accuracy': [0.7609817981719971,\n",
       "  0.82792729139328,\n",
       "  0.8444363474845886,\n",
       "  0.8521090745925903,\n",
       "  0.8588181734085083,\n",
       "  0.8656908869743347,\n",
       "  0.8695999979972839,\n",
       "  0.8724727034568787,\n",
       "  0.876872718334198,\n",
       "  0.8792545199394226,\n",
       "  0.8834182024002075,\n",
       "  0.8851818442344666,\n",
       "  0.8880363702774048,\n",
       "  0.8898000121116638,\n",
       "  0.8924727439880371,\n",
       "  0.8933091163635254,\n",
       "  0.8973272442817688,\n",
       "  0.8979636430740356,\n",
       "  0.8992727398872375,\n",
       "  0.9010545611381531,\n",
       "  0.9032909274101257,\n",
       "  0.9056363701820374,\n",
       "  0.906781792640686,\n",
       "  0.9080727100372314,\n",
       "  0.9099818468093872,\n",
       "  0.9115999937057495,\n",
       "  0.9128545522689819,\n",
       "  0.9139272570610046,\n",
       "  0.9148363471031189,\n",
       "  0.9169272780418396,\n",
       "  0.918254554271698,\n",
       "  0.9196000099182129,\n",
       "  0.9217272996902466,\n",
       "  0.923763632774353,\n",
       "  0.9227454662322998,\n",
       "  0.9229454398155212,\n",
       "  0.9261817932128906,\n",
       "  0.9281272888183594,\n",
       "  0.9289273023605347,\n",
       "  0.928527295589447,\n",
       "  0.9299636483192444,\n",
       "  0.932345449924469,\n",
       "  0.9332727193832397,\n",
       "  0.934109091758728,\n",
       "  0.9352545738220215,\n",
       "  0.935309112071991,\n",
       "  0.9373636245727539,\n",
       "  0.937854528427124,\n",
       "  0.9396727085113525,\n",
       "  0.9398545622825623],\n",
       " 'val_loss': [0.5176519155502319,\n",
       "  0.44644564390182495,\n",
       "  0.44191890954971313,\n",
       "  0.4057721793651581,\n",
       "  0.4006597101688385,\n",
       "  0.3694670796394348,\n",
       "  0.3781532645225525,\n",
       "  0.37635156512260437,\n",
       "  0.37713998556137085,\n",
       "  0.34888648986816406,\n",
       "  0.346957802772522,\n",
       "  0.3565564453601837,\n",
       "  0.33250126242637634,\n",
       "  0.3463744521141052,\n",
       "  0.32697635889053345,\n",
       "  0.3272850513458252,\n",
       "  0.32109397649765015,\n",
       "  0.3171651363372803,\n",
       "  0.32847359776496887,\n",
       "  0.30817973613739014,\n",
       "  0.31898003816604614,\n",
       "  0.32026875019073486,\n",
       "  0.31015610694885254,\n",
       "  0.3232225179672241,\n",
       "  0.3116491138935089,\n",
       "  0.3101538121700287,\n",
       "  0.33751752972602844,\n",
       "  0.29798322916030884,\n",
       "  0.3105912506580353,\n",
       "  0.31899720430374146,\n",
       "  0.3088793456554413,\n",
       "  0.3052162826061249,\n",
       "  0.3079547882080078,\n",
       "  0.32704222202301025,\n",
       "  0.2883216440677643,\n",
       "  0.30416229367256165,\n",
       "  0.3096414804458618,\n",
       "  0.3094157576560974,\n",
       "  0.3038902282714844,\n",
       "  0.29492154717445374,\n",
       "  0.29325783252716064,\n",
       "  0.29595673084259033,\n",
       "  0.31233471632003784,\n",
       "  0.2932756245136261,\n",
       "  0.295261412858963,\n",
       "  0.30451053380966187,\n",
       "  0.29422080516815186,\n",
       "  0.283859521150589,\n",
       "  0.3053560256958008,\n",
       "  0.29196569323539734],\n",
       " 'val_accuracy': [0.8220000267028809,\n",
       "  0.8461999893188477,\n",
       "  0.8464000225067139,\n",
       "  0.8586000204086304,\n",
       "  0.8618000149726868,\n",
       "  0.8722000122070312,\n",
       "  0.8676000237464905,\n",
       "  0.8669999837875366,\n",
       "  0.8623999953269958,\n",
       "  0.876800000667572,\n",
       "  0.8759999871253967,\n",
       "  0.8763999938964844,\n",
       "  0.8813999891281128,\n",
       "  0.8777999877929688,\n",
       "  0.8844000101089478,\n",
       "  0.8826000094413757,\n",
       "  0.8885999917984009,\n",
       "  0.8899999856948853,\n",
       "  0.8838000297546387,\n",
       "  0.8921999931335449,\n",
       "  0.8862000107765198,\n",
       "  0.8844000101089478,\n",
       "  0.8894000053405762,\n",
       "  0.8866000175476074,\n",
       "  0.8867999911308289,\n",
       "  0.8870000243186951,\n",
       "  0.8830000162124634,\n",
       "  0.8931999802589417,\n",
       "  0.8863999843597412,\n",
       "  0.8817999958992004,\n",
       "  0.8907999992370605,\n",
       "  0.8899999856948853,\n",
       "  0.8921999931335449,\n",
       "  0.8813999891281128,\n",
       "  0.8952000141143799,\n",
       "  0.8939999938011169,\n",
       "  0.8871999979019165,\n",
       "  0.8942000269889832,\n",
       "  0.8912000060081482,\n",
       "  0.8952000141143799,\n",
       "  0.892799973487854,\n",
       "  0.8978000283241272,\n",
       "  0.8858000040054321,\n",
       "  0.8984000086784363,\n",
       "  0.895799994468689,\n",
       "  0.8939999938011169,\n",
       "  0.895799994468689,\n",
       "  0.9010000228881836,\n",
       "  0.8885999917984009,\n",
       "  0.8988000154495239]}"
      ]
     },
     "execution_count": 28,
     "metadata": {},
     "output_type": "execute_result"
    }
   ],
   "source": [
    "model_history.history"
   ]
  },
  {
   "cell_type": "code",
   "execution_count": 29,
   "id": "027c074e",
   "metadata": {},
   "outputs": [
    {
     "data": {
      "image/png": "[encoded data removed]",
      "text/plain": [
       "<Figure size 576x360 with 1 Axes>"
      ]
     },
     "metadata": {
      "needs_background": "light"
     },
     "output_type": "display_data"
    }
   ],
   "source": [
    "pd.DataFrame(model_history.history).plot(figsize = (8,5))\n",
    "plt.grid(True)\n",
    "plt.gca().set_ylim(0,1)\n",
    "plt.show()"
   ]
  },
  {
   "cell_type": "code",
   "execution_count": 30,
   "id": "8bee54e0",
   "metadata": {},
   "outputs": [
    {
     "name": "stdout",
     "output_type": "stream",
     "text": [
      "313/313 [==============================] - 1s 2ms/step - loss: 0.3222 - accuracy: 0.8918\n"
     ]
    },
    {
     "data": {
      "text/plain": [
       "[0.3222039043903351, 0.8917999863624573]"
      ]
     },
     "execution_count": 30,
     "metadata": {},
     "output_type": "execute_result"
    }
   ],
   "source": [
    "model.evaluate(X_test, y_test)"
   ]
  },
  {
   "cell_type": "markdown",
   "id": "ca999906",
   "metadata": {},
   "source": [
    "#### Saving 1st 3 records"
   ]
  },
  {
   "cell_type": "code",
   "execution_count": 31,
   "id": "6499fc33",
   "metadata": {},
   "outputs": [],
   "source": [
    "X_new = X_test[:3]"
   ]
  },
  {
   "cell_type": "code",
   "execution_count": 32,
   "id": "ca07f92a",
   "metadata": {},
   "outputs": [
    {
     "data": {
      "text/plain": [
       "array([[[0., 0., 0., ..., 0., 0., 0.],\n",
       "        [0., 0., 0., ..., 0., 0., 0.],\n",
       "        [0., 0., 0., ..., 0., 0., 0.],\n",
       "        ...,\n",
       "        [0., 0., 0., ..., 0., 0., 0.],\n",
       "        [0., 0., 0., ..., 0., 0., 0.],\n",
       "        [0., 0., 0., ..., 0., 0., 0.]],\n",
       "\n",
       "       [[0., 0., 0., ..., 0., 0., 0.],\n",
       "        [0., 0., 0., ..., 0., 0., 0.],\n",
       "        [0., 0., 0., ..., 0., 0., 0.],\n",
       "        ...,\n",
       "        [0., 0., 0., ..., 0., 0., 0.],\n",
       "        [0., 0., 0., ..., 0., 0., 0.],\n",
       "        [0., 0., 0., ..., 0., 0., 0.]],\n",
       "\n",
       "       [[0., 0., 0., ..., 0., 0., 0.],\n",
       "        [0., 0., 0., ..., 0., 0., 0.],\n",
       "        [0., 0., 0., ..., 0., 0., 0.],\n",
       "        ...,\n",
       "        [0., 0., 0., ..., 0., 0., 0.],\n",
       "        [0., 0., 0., ..., 0., 0., 0.],\n",
       "        [0., 0., 0., ..., 0., 0., 0.]]])"
      ]
     },
     "execution_count": 32,
     "metadata": {},
     "output_type": "execute_result"
    }
   ],
   "source": [
    "X_new"
   ]
  },
  {
   "cell_type": "code",
   "execution_count": 33,
   "id": "1fedc223",
   "metadata": {},
   "outputs": [
    {
     "name": "stdout",
     "output_type": "stream",
     "text": [
      "1/1 [==============================] - 0s 188ms/step\n"
     ]
    },
    {
     "data": {
      "text/plain": [
       "array([[0., 0., 0., 0., 0., 0., 0., 0., 0., 1.],\n",
       "       [0., 0., 1., 0., 0., 0., 0., 0., 0., 0.],\n",
       "       [0., 1., 0., 0., 0., 0., 0., 0., 0., 0.]], dtype=float32)"
      ]
     },
     "execution_count": 33,
     "metadata": {},
     "output_type": "execute_result"
    }
   ],
   "source": [
    "y_proba = model.predict(X_new)\n",
    "y_proba.round(2)"
   ]
  },
  {
   "cell_type": "code",
   "execution_count": 34,
   "id": "12c365b2",
   "metadata": {},
   "outputs": [
    {
     "name": "stdout",
     "output_type": "stream",
     "text": [
      "1/1 [==============================] - 0s 13ms/step\n"
     ]
    },
    {
     "data": {
      "text/plain": [
       "array([9, 2, 1], dtype=int64)"
      ]
     },
     "execution_count": 34,
     "metadata": {},
     "output_type": "execute_result"
    }
   ],
   "source": [
    "y_pred = np.argmax(model.predict(X_new), axis=-1)\n",
    "y_pred"
   ]
  },
  {
   "cell_type": "code",
   "execution_count": 35,
   "id": "d65c0e79",
   "metadata": {},
   "outputs": [
    {
     "data": {
      "text/plain": [
       "array(['Ankle boot', 'Pullover', 'Trouser'], dtype='<U11')"
      ]
     },
     "execution_count": 35,
     "metadata": {},
     "output_type": "execute_result"
    }
   ],
   "source": [
    "np.array(class_name)[y_pred]"
   ]
  },
  {
   "cell_type": "code",
   "execution_count": 36,
   "id": "e2d226ae",
   "metadata": {},
   "outputs": [
    {
     "name": "stdout",
     "output_type": "stream",
     "text": [
      "AxesImage(54,36;334.8x217.44)\n"
     ]
    },
    {
     "data": {
      "image/png": "[encoded data removed]",
      "text/plain": [
       "<Figure size 432x288 with 1 Axes>"
      ]
     },
     "metadata": {
      "needs_background": "light"
     },
     "output_type": "display_data"
    }
   ],
   "source": [
    "print(plt.imshow(X_test[0]))"
   ]
  },
  {
   "cell_type": "code",
   "execution_count": 37,
   "id": "09dc1061",
   "metadata": {},
   "outputs": [
    {
     "name": "stdout",
     "output_type": "stream",
     "text": [
      "AxesImage(54,36;334.8x217.44)\n"
     ]
    },
    {
     "data": {
      "image/png": "[encoded data removed]",
      "text/plain": [
       "<Figure size 432x288 with 1 Axes>"
      ]
     },
     "metadata": {
      "needs_background": "light"
     },
     "output_type": "display_data"
    }
   ],
   "source": [
    "print(plt.imshow(X_test[1]))"
   ]
  },
  {
   "cell_type": "code",
   "execution_count": 38,
   "id": "6ca57bf4",
   "metadata": {},
   "outputs": [
    {
     "name": "stdout",
     "output_type": "stream",
     "text": [
      "AxesImage(54,36;334.8x217.44)\n"
     ]
    },
    {
     "data": {
      "image/png": "[encoded data removed]",
      "text/plain": [
       "<Figure size 432x288 with 1 Axes>"
      ]
     },
     "metadata": {
      "needs_background": "light"
     },
     "output_type": "display_data"
    }
   ],
   "source": [
    "print(plt.imshow(X_test[2]))"
   ]
  },
  {
   "cell_type": "code",
   "execution_count": 39,
   "id": "581b2cc2",
   "metadata": {},
   "outputs": [],
   "source": [
    "X_new1 = X_test[1200:1203]"
   ]
  },
  {
   "cell_type": "code",
   "execution_count": 40,
   "id": "d18bd52b",
   "metadata": {},
   "outputs": [
    {
     "data": {
      "text/plain": [
       "array([[[0.        , 0.        , 0.        , ..., 0.        ,\n",
       "         0.        , 0.        ],\n",
       "        [0.        , 0.        , 0.        , ..., 0.        ,\n",
       "         0.        , 0.        ],\n",
       "        [0.        , 0.        , 0.        , ..., 0.        ,\n",
       "         0.        , 0.        ],\n",
       "        ...,\n",
       "        [0.        , 0.        , 0.        , ..., 0.17647059,\n",
       "         0.08235294, 0.        ],\n",
       "        [0.        , 0.        , 0.        , ..., 0.        ,\n",
       "         0.        , 0.        ],\n",
       "        [0.        , 0.        , 0.        , ..., 0.        ,\n",
       "         0.        , 0.        ]],\n",
       "\n",
       "       [[0.        , 0.        , 0.        , ..., 0.        ,\n",
       "         0.        , 0.        ],\n",
       "        [0.        , 0.        , 0.        , ..., 0.        ,\n",
       "         0.        , 0.        ],\n",
       "        [0.        , 0.        , 0.        , ..., 0.        ,\n",
       "         0.        , 0.        ],\n",
       "        ...,\n",
       "        [0.        , 0.        , 0.        , ..., 0.        ,\n",
       "         0.        , 0.        ],\n",
       "        [0.        , 0.        , 0.        , ..., 0.        ,\n",
       "         0.        , 0.        ],\n",
       "        [0.        , 0.        , 0.        , ..., 0.        ,\n",
       "         0.        , 0.        ]],\n",
       "\n",
       "       [[0.        , 0.        , 0.        , ..., 0.        ,\n",
       "         0.        , 0.        ],\n",
       "        [0.        , 0.        , 0.        , ..., 0.        ,\n",
       "         0.        , 0.        ],\n",
       "        [0.        , 0.        , 0.        , ..., 0.        ,\n",
       "         0.        , 0.        ],\n",
       "        ...,\n",
       "        [0.        , 0.        , 0.        , ..., 0.        ,\n",
       "         0.        , 0.        ],\n",
       "        [0.        , 0.        , 0.        , ..., 0.        ,\n",
       "         0.        , 0.        ],\n",
       "        [0.        , 0.        , 0.        , ..., 0.        ,\n",
       "         0.        , 0.        ]]])"
      ]
     },
     "execution_count": 40,
     "metadata": {},
     "output_type": "execute_result"
    }
   ],
   "source": [
    "X_new1"
   ]
  },
  {
   "cell_type": "code",
   "execution_count": 41,
   "id": "5d4d7658",
   "metadata": {},
   "outputs": [
    {
     "name": "stdout",
     "output_type": "stream",
     "text": [
      "1/1 [==============================] - 0s 16ms/step\n"
     ]
    },
    {
     "data": {
      "text/plain": [
       "array([[0.  , 0.  , 0.  , 0.  , 0.  , 1.  , 0.  , 0.  , 0.  , 0.  ],\n",
       "       [0.  , 1.  , 0.  , 0.  , 0.  , 0.  , 0.  , 0.  , 0.  , 0.  ],\n",
       "       [0.  , 0.98, 0.  , 0.02, 0.  , 0.  , 0.  , 0.  , 0.  , 0.  ]],\n",
       "      dtype=float32)"
      ]
     },
     "execution_count": 41,
     "metadata": {},
     "output_type": "execute_result"
    }
   ],
   "source": [
    "y_proba = model.predict(X_new1)\n",
    "y_proba.round(2)"
   ]
  },
  {
   "cell_type": "code",
   "execution_count": 42,
   "id": "fa84808a",
   "metadata": {},
   "outputs": [
    {
     "name": "stdout",
     "output_type": "stream",
     "text": [
      "1/1 [==============================] - 0s 17ms/step\n"
     ]
    },
    {
     "data": {
      "text/plain": [
       "array([5, 1, 1], dtype=int64)"
      ]
     },
     "execution_count": 42,
     "metadata": {},
     "output_type": "execute_result"
    }
   ],
   "source": [
    "y_pred = np.argmax(model.predict(X_new1), axis=-1)\n",
    "y_pred"
   ]
  },
  {
   "cell_type": "code",
   "execution_count": 43,
   "id": "73d5dfcc",
   "metadata": {},
   "outputs": [
    {
     "name": "stdout",
     "output_type": "stream",
     "text": [
      "AxesImage(54,36;334.8x217.44)\n"
     ]
    },
    {
     "data": {
      "image/png": "[encoded data removed]",
      "text/plain": [
       "<Figure size 432x288 with 1 Axes>"
      ]
     },
     "metadata": {
      "needs_background": "light"
     },
     "output_type": "display_data"
    }
   ],
   "source": [
    "print(plt.imshow(X_test[1200]))"
   ]
  },
  {
   "cell_type": "code",
   "execution_count": 44,
   "id": "1973ee85",
   "metadata": {},
   "outputs": [
    {
     "name": "stdout",
     "output_type": "stream",
     "text": [
      "AxesImage(54,36;334.8x217.44)\n"
     ]
    },
    {
     "data": {
      "image/png": "[encoded data removed]",
      "text/plain": [
       "<Figure size 432x288 with 1 Axes>"
      ]
     },
     "metadata": {
      "needs_background": "light"
     },
     "output_type": "display_data"
    }
   ],
   "source": [
    "print(plt.imshow(X_test[1201]))"
   ]
  },
  {
   "cell_type": "code",
   "execution_count": 45,
   "id": "0c3fc73f",
   "metadata": {},
   "outputs": [
    {
     "name": "stdout",
     "output_type": "stream",
     "text": [
      "AxesImage(54,36;334.8x217.44)\n"
     ]
    },
    {
     "data": {
      "image/png": "[encoded data removed]",
      "text/plain": [
       "<Figure size 432x288 with 1 Axes>"
      ]
     },
     "metadata": {
      "needs_background": "light"
     },
     "output_type": "display_data"
    }
   ],
   "source": [
    "print(plt.imshow(X_test[1203]))"
   ]
  },
  {
   "cell_type": "code",
   "execution_count": 46,
   "id": "d0a7901b",
   "metadata": {},
   "outputs": [
    {
     "data": {
      "text/plain": [
       "array(['Sandal', 'Trouser', 'Trouser'], dtype='<U11')"
      ]
     },
     "execution_count": 46,
     "metadata": {},
     "output_type": "execute_result"
    }
   ],
   "source": [
    "np.array(class_name)[y_pred]"
   ]
  }
 ],
 "metadata": {
  "kernelspec": {
   "display_name": "Python 3 (ipykernel)",
   "language": "python",
   "name": "python3"
  },
  "language_info": {
   "codemirror_mode": {
    "name": "ipython",
    "version": 3
   },
   "file_extension": ".py",
   "mimetype": "text/x-python",
   "name": "python",
   "nbconvert_exporter": "python",
   "pygments_lexer": "ipython3",
   "version": "3.9.7"
  }
 },
 "nbformat": 4,
 "nbformat_minor": 5
}
