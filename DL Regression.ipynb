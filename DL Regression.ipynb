{
 "cells": [
  {
   "cell_type": "code",
   "execution_count": 1,
   "id": "6b152826",
   "metadata": {},
   "outputs": [],
   "source": [
    "import numpy as np\n",
    "import pandas as pd\n",
    "%matplotlib inline\n",
    "import matplotlib.pyplot as plt\n",
    "import matplotlib as mpl"
   ]
  },
  {
   "cell_type": "code",
   "execution_count": 2,
   "id": "c78f4c9f",
   "metadata": {},
   "outputs": [],
   "source": [
    "import tensorflow as tf\n",
    "from tensorflow import keras"
   ]
  },
  {
   "cell_type": "code",
   "execution_count": 3,
   "id": "ef489f38",
   "metadata": {},
   "outputs": [],
   "source": [
    "from sklearn.datasets import fetch_california_housing\n",
    "housing = fetch_california_housing()"
   ]
  },
  {
   "cell_type": "code",
   "execution_count": 4,
   "id": "767eb91d",
   "metadata": {},
   "outputs": [
    {
     "data": {
      "text/plain": [
       "['MedInc',\n",
       " 'HouseAge',\n",
       " 'AveRooms',\n",
       " 'AveBedrms',\n",
       " 'Population',\n",
       " 'AveOccup',\n",
       " 'Latitude',\n",
       " 'Longitude']"
      ]
     },
     "execution_count": 4,
     "metadata": {},
     "output_type": "execute_result"
    }
   ],
   "source": [
    "housing.feature_names"
   ]
  },
  {
   "cell_type": "code",
   "execution_count": 5,
   "id": "4d0c7dc0",
   "metadata": {},
   "outputs": [
    {
     "data": {
      "text/html": [
       "<div>\n",
       "<style scoped>\n",
       "    .dataframe tbody tr th:only-of-type {\n",
       "        vertical-align: middle;\n",
       "    }\n",
       "\n",
       "    .dataframe tbody tr th {\n",
       "        vertical-align: top;\n",
       "    }\n",
       "\n",
       "    .dataframe thead th {\n",
       "        text-align: right;\n",
       "    }\n",
       "</style>\n",
       "<table border=\"1\" class=\"dataframe\">\n",
       "  <thead>\n",
       "    <tr style=\"text-align: right;\">\n",
       "      <th></th>\n",
       "      <th>MedInc</th>\n",
       "      <th>HouseAge</th>\n",
       "      <th>AveRooms</th>\n",
       "      <th>AveBedrms</th>\n",
       "      <th>Population</th>\n",
       "      <th>AveOccup</th>\n",
       "      <th>Latitude</th>\n",
       "      <th>Longitude</th>\n",
       "    </tr>\n",
       "  </thead>\n",
       "  <tbody>\n",
       "    <tr>\n",
       "      <th>0</th>\n",
       "      <td>8.3252</td>\n",
       "      <td>41.0</td>\n",
       "      <td>6.984127</td>\n",
       "      <td>1.023810</td>\n",
       "      <td>322.0</td>\n",
       "      <td>2.555556</td>\n",
       "      <td>37.88</td>\n",
       "      <td>-122.23</td>\n",
       "    </tr>\n",
       "    <tr>\n",
       "      <th>1</th>\n",
       "      <td>8.3014</td>\n",
       "      <td>21.0</td>\n",
       "      <td>6.238137</td>\n",
       "      <td>0.971880</td>\n",
       "      <td>2401.0</td>\n",
       "      <td>2.109842</td>\n",
       "      <td>37.86</td>\n",
       "      <td>-122.22</td>\n",
       "    </tr>\n",
       "    <tr>\n",
       "      <th>2</th>\n",
       "      <td>7.2574</td>\n",
       "      <td>52.0</td>\n",
       "      <td>8.288136</td>\n",
       "      <td>1.073446</td>\n",
       "      <td>496.0</td>\n",
       "      <td>2.802260</td>\n",
       "      <td>37.85</td>\n",
       "      <td>-122.24</td>\n",
       "    </tr>\n",
       "    <tr>\n",
       "      <th>3</th>\n",
       "      <td>5.6431</td>\n",
       "      <td>52.0</td>\n",
       "      <td>5.817352</td>\n",
       "      <td>1.073059</td>\n",
       "      <td>558.0</td>\n",
       "      <td>2.547945</td>\n",
       "      <td>37.85</td>\n",
       "      <td>-122.25</td>\n",
       "    </tr>\n",
       "    <tr>\n",
       "      <th>4</th>\n",
       "      <td>3.8462</td>\n",
       "      <td>52.0</td>\n",
       "      <td>6.281853</td>\n",
       "      <td>1.081081</td>\n",
       "      <td>565.0</td>\n",
       "      <td>2.181467</td>\n",
       "      <td>37.85</td>\n",
       "      <td>-122.25</td>\n",
       "    </tr>\n",
       "  </tbody>\n",
       "</table>\n",
       "</div>"
      ],
      "text/plain": [
       "   MedInc  HouseAge  AveRooms  AveBedrms  Population  AveOccup  Latitude  \\\n",
       "0  8.3252      41.0  6.984127   1.023810       322.0  2.555556     37.88   \n",
       "1  8.3014      21.0  6.238137   0.971880      2401.0  2.109842     37.86   \n",
       "2  7.2574      52.0  8.288136   1.073446       496.0  2.802260     37.85   \n",
       "3  5.6431      52.0  5.817352   1.073059       558.0  2.547945     37.85   \n",
       "4  3.8462      52.0  6.281853   1.081081       565.0  2.181467     37.85   \n",
       "\n",
       "   Longitude  \n",
       "0    -122.23  \n",
       "1    -122.22  \n",
       "2    -122.24  \n",
       "3    -122.25  \n",
       "4    -122.25  "
      ]
     },
     "execution_count": 5,
     "metadata": {},
     "output_type": "execute_result"
    }
   ],
   "source": [
    "df = pd.DataFrame(housing.data)\n",
    "df.columns = housing.feature_names\n",
    "df.head()"
   ]
  },
  {
   "cell_type": "code",
   "execution_count": 6,
   "id": "f5edb180",
   "metadata": {},
   "outputs": [],
   "source": [
    "from sklearn.model_selection import train_test_split\n",
    "X_train, X_test, Y_train, Y_test = train_test_split(housing.data, housing.target, random_state=50)\n",
    "X_train, X_valid, Y_train, Y_valid = train_test_split(X_train, Y_train, random_state=50)"
   ]
  },
  {
   "cell_type": "code",
   "execution_count": 7,
   "id": "7a9d1d68",
   "metadata": {},
   "outputs": [],
   "source": [
    "from sklearn.preprocessing import StandardScaler\n",
    "scaler = StandardScaler()\n",
    "X_train = scaler.fit_transform(X_train)\n",
    "X_valid = scaler.fit_transform(X_valid)\n",
    "X_test = scaler.fit_transform(X_test)"
   ]
  },
  {
   "cell_type": "code",
   "execution_count": 8,
   "id": "ce0bb3d4",
   "metadata": {},
   "outputs": [],
   "source": [
    "np.random.seed(40)\n",
    "tf.random.set_seed(40)"
   ]
  },
  {
   "cell_type": "code",
   "execution_count": 9,
   "id": "7cb37a12",
   "metadata": {},
   "outputs": [
    {
     "data": {
      "text/plain": [
       "(11610, 8)"
      ]
     },
     "execution_count": 9,
     "metadata": {},
     "output_type": "execute_result"
    }
   ],
   "source": [
    "X_train.shape"
   ]
  },
  {
   "cell_type": "code",
   "execution_count": 10,
   "id": "c9a60ee2",
   "metadata": {},
   "outputs": [],
   "source": [
    "model = keras.models.Sequential([\n",
    "    keras.layers.Dense(30, activation=\"relu\", input_shape=X_train.shape[1:]),\n",
    "    keras.layers.Dense(30, activation=\"relu\"),\n",
    "    keras.layers.Dense(1)\n",
    "])"
   ]
  },
  {
   "cell_type": "code",
   "execution_count": 11,
   "id": "0905f278",
   "metadata": {},
   "outputs": [
    {
     "name": "stdout",
     "output_type": "stream",
     "text": [
      "Model: \"sequential\"\n",
      "_________________________________________________________________\n",
      " Layer (type)                Output Shape              Param #   \n",
      "=================================================================\n",
      " dense (Dense)               (None, 30)                270       \n",
      "                                                                 \n",
      " dense_1 (Dense)             (None, 30)                930       \n",
      "                                                                 \n",
      " dense_2 (Dense)             (None, 1)                 31        \n",
      "                                                                 \n",
      "=================================================================\n",
      "Total params: 1,231\n",
      "Trainable params: 1,231\n",
      "Non-trainable params: 0\n",
      "_________________________________________________________________\n"
     ]
    }
   ],
   "source": [
    "model.summary()"
   ]
  },
  {
   "cell_type": "code",
   "execution_count": 12,
   "id": "52b4635e",
   "metadata": {},
   "outputs": [
    {
     "name": "stderr",
     "output_type": "stream",
     "text": [
      "C:\\Users\\salun\\anaconda3\\lib\\site-packages\\keras\\optimizers\\optimizer_v2\\gradient_descent.py:108: UserWarning: The `lr` argument is deprecated, use `learning_rate` instead.\n",
      "  super(SGD, self).__init__(name, **kwargs)\n"
     ]
    }
   ],
   "source": [
    "model.compile(loss = \"mean_squared_error\", optimizer = keras.optimizers.SGD(lr = 1e-3), metrics = [\"mae\"])"
   ]
  },
  {
   "cell_type": "code",
   "execution_count": 13,
   "id": "a7845341",
   "metadata": {},
   "outputs": [
    {
     "name": "stdout",
     "output_type": "stream",
     "text": [
      "Epoch 1/50\n",
      "363/363 [==============================] - 1s 3ms/step - loss: 1.4209 - mae: 0.8254 - val_loss: 0.7822 - val_mae: 0.6593\n",
      "Epoch 2/50\n",
      "363/363 [==============================] - 1s 2ms/step - loss: 0.7157 - mae: 0.6236 - val_loss: 0.6848 - val_mae: 0.6149\n",
      "Epoch 3/50\n",
      "363/363 [==============================] - 1s 2ms/step - loss: 0.6420 - mae: 0.5892 - val_loss: 0.6422 - val_mae: 0.5897\n",
      "Epoch 4/50\n",
      "363/363 [==============================] - 1s 2ms/step - loss: 0.6008 - mae: 0.5676 - val_loss: 0.6107 - val_mae: 0.5745\n",
      "Epoch 5/50\n",
      "363/363 [==============================] - 1s 2ms/step - loss: 0.5702 - mae: 0.5488 - val_loss: 0.5895 - val_mae: 0.5667\n",
      "Epoch 6/50\n",
      "363/363 [==============================] - 1s 2ms/step - loss: 0.5449 - mae: 0.5357 - val_loss: 0.5710 - val_mae: 0.5547\n",
      "Epoch 7/50\n",
      "363/363 [==============================] - 1s 2ms/step - loss: 0.5243 - mae: 0.5234 - val_loss: 0.5565 - val_mae: 0.5483\n",
      "Epoch 8/50\n",
      "363/363 [==============================] - 1s 2ms/step - loss: 0.5059 - mae: 0.5142 - val_loss: 0.5437 - val_mae: 0.5395\n",
      "Epoch 9/50\n",
      "363/363 [==============================] - 1s 2ms/step - loss: 0.4906 - mae: 0.5052 - val_loss: 0.5333 - val_mae: 0.5371\n",
      "Epoch 10/50\n",
      "363/363 [==============================] - 1s 2ms/step - loss: 0.4777 - mae: 0.4998 - val_loss: 0.5240 - val_mae: 0.5300\n",
      "Epoch 11/50\n",
      "363/363 [==============================] - 1s 2ms/step - loss: 0.4659 - mae: 0.4932 - val_loss: 0.5160 - val_mae: 0.5271\n",
      "Epoch 12/50\n",
      "363/363 [==============================] - 1s 2ms/step - loss: 0.4556 - mae: 0.4884 - val_loss: 0.5091 - val_mae: 0.5202\n",
      "Epoch 13/50\n",
      "363/363 [==============================] - 1s 2ms/step - loss: 0.4475 - mae: 0.4829 - val_loss: 0.5028 - val_mae: 0.5203\n",
      "Epoch 14/50\n",
      "363/363 [==============================] - 1s 2ms/step - loss: 0.4388 - mae: 0.4787 - val_loss: 0.4986 - val_mae: 0.5233\n",
      "Epoch 15/50\n",
      "363/363 [==============================] - 1s 2ms/step - loss: 0.4325 - mae: 0.4751 - val_loss: 0.4939 - val_mae: 0.5175\n",
      "Epoch 16/50\n",
      "363/363 [==============================] - 1s 2ms/step - loss: 0.4265 - mae: 0.4727 - val_loss: 0.4886 - val_mae: 0.5082\n",
      "Epoch 17/50\n",
      "363/363 [==============================] - 1s 2ms/step - loss: 0.4210 - mae: 0.4691 - val_loss: 0.4864 - val_mae: 0.5063\n",
      "Epoch 18/50\n",
      "363/363 [==============================] - 1s 2ms/step - loss: 0.4159 - mae: 0.4660 - val_loss: 0.4821 - val_mae: 0.5061\n",
      "Epoch 19/50\n",
      "363/363 [==============================] - 1s 2ms/step - loss: 0.4115 - mae: 0.4628 - val_loss: 0.4797 - val_mae: 0.5050\n",
      "Epoch 20/50\n",
      "363/363 [==============================] - 1s 2ms/step - loss: 0.4085 - mae: 0.4617 - val_loss: 0.4774 - val_mae: 0.5012\n",
      "Epoch 21/50\n",
      "363/363 [==============================] - 1s 2ms/step - loss: 0.4048 - mae: 0.4596 - val_loss: 0.4725 - val_mae: 0.4992\n",
      "Epoch 22/50\n",
      "363/363 [==============================] - 1s 2ms/step - loss: 0.4012 - mae: 0.4574 - val_loss: 0.4706 - val_mae: 0.4972\n",
      "Epoch 23/50\n",
      "363/363 [==============================] - 1s 2ms/step - loss: 0.3983 - mae: 0.4558 - val_loss: 0.4700 - val_mae: 0.4936\n",
      "Epoch 24/50\n",
      "363/363 [==============================] - 1s 2ms/step - loss: 0.3954 - mae: 0.4532 - val_loss: 0.4663 - val_mae: 0.4945\n",
      "Epoch 25/50\n",
      "363/363 [==============================] - 1s 2ms/step - loss: 0.3930 - mae: 0.4524 - val_loss: 0.4657 - val_mae: 0.4917\n",
      "Epoch 26/50\n",
      "363/363 [==============================] - 1s 2ms/step - loss: 0.3905 - mae: 0.4510 - val_loss: 0.4659 - val_mae: 0.4880\n",
      "Epoch 27/50\n",
      "363/363 [==============================] - 1s 2ms/step - loss: 0.3885 - mae: 0.4490 - val_loss: 0.4632 - val_mae: 0.4881\n",
      "Epoch 28/50\n",
      "363/363 [==============================] - 1s 2ms/step - loss: 0.3865 - mae: 0.4478 - val_loss: 0.4639 - val_mae: 0.4873\n",
      "Epoch 29/50\n",
      "363/363 [==============================] - 1s 2ms/step - loss: 0.3846 - mae: 0.4469 - val_loss: 0.4619 - val_mae: 0.4843\n",
      "Epoch 30/50\n",
      "363/363 [==============================] - 1s 2ms/step - loss: 0.3827 - mae: 0.4454 - val_loss: 0.4593 - val_mae: 0.4859\n",
      "Epoch 31/50\n",
      "363/363 [==============================] - 1s 2ms/step - loss: 0.3809 - mae: 0.4442 - val_loss: 0.4580 - val_mae: 0.4880\n",
      "Epoch 32/50\n",
      "363/363 [==============================] - 1s 2ms/step - loss: 0.3794 - mae: 0.4432 - val_loss: 0.4571 - val_mae: 0.4858\n",
      "Epoch 33/50\n",
      "363/363 [==============================] - 1s 2ms/step - loss: 0.3777 - mae: 0.4425 - val_loss: 0.4582 - val_mae: 0.4818\n",
      "Epoch 34/50\n",
      "363/363 [==============================] - 1s 2ms/step - loss: 0.3760 - mae: 0.4405 - val_loss: 0.4562 - val_mae: 0.4816\n",
      "Epoch 35/50\n",
      "363/363 [==============================] - 1s 2ms/step - loss: 0.3744 - mae: 0.4398 - val_loss: 0.4526 - val_mae: 0.4831\n",
      "Epoch 36/50\n",
      "363/363 [==============================] - 1s 2ms/step - loss: 0.3732 - mae: 0.4390 - val_loss: 0.4537 - val_mae: 0.4806\n",
      "Epoch 37/50\n",
      "363/363 [==============================] - 1s 2ms/step - loss: 0.3717 - mae: 0.4380 - val_loss: 0.4540 - val_mae: 0.4791\n",
      "Epoch 38/50\n",
      "363/363 [==============================] - 1s 2ms/step - loss: 0.3702 - mae: 0.4364 - val_loss: 0.4506 - val_mae: 0.4806\n",
      "Epoch 39/50\n",
      "363/363 [==============================] - 1s 2ms/step - loss: 0.3686 - mae: 0.4358 - val_loss: 0.4511 - val_mae: 0.4782\n",
      "Epoch 40/50\n",
      "363/363 [==============================] - 1s 2ms/step - loss: 0.3675 - mae: 0.4352 - val_loss: 0.4524 - val_mae: 0.4771\n",
      "Epoch 41/50\n",
      "363/363 [==============================] - 1s 3ms/step - loss: 0.3659 - mae: 0.4340 - val_loss: 0.4494 - val_mae: 0.4756\n",
      "Epoch 42/50\n",
      "363/363 [==============================] - 1s 3ms/step - loss: 0.3649 - mae: 0.4329 - val_loss: 0.4498 - val_mae: 0.4763\n",
      "Epoch 43/50\n",
      "363/363 [==============================] - 1s 3ms/step - loss: 0.3633 - mae: 0.4324 - val_loss: 0.4496 - val_mae: 0.4732\n",
      "Epoch 44/50\n",
      "363/363 [==============================] - 1s 2ms/step - loss: 0.3624 - mae: 0.4311 - val_loss: 0.4525 - val_mae: 0.4741\n",
      "Epoch 45/50\n",
      "363/363 [==============================] - 1s 2ms/step - loss: 0.3614 - mae: 0.4300 - val_loss: 0.4499 - val_mae: 0.4754\n",
      "Epoch 46/50\n",
      "363/363 [==============================] - 1s 2ms/step - loss: 0.3604 - mae: 0.4296 - val_loss: 0.4499 - val_mae: 0.4747\n",
      "Epoch 47/50\n",
      "363/363 [==============================] - 1s 2ms/step - loss: 0.3594 - mae: 0.4291 - val_loss: 0.4466 - val_mae: 0.4730\n",
      "Epoch 48/50\n",
      "363/363 [==============================] - 1s 2ms/step - loss: 0.3582 - mae: 0.4278 - val_loss: 0.4474 - val_mae: 0.4737\n",
      "Epoch 49/50\n",
      "363/363 [==============================] - 1s 2ms/step - loss: 0.3574 - mae: 0.4276 - val_loss: 0.4462 - val_mae: 0.4727\n",
      "Epoch 50/50\n",
      "363/363 [==============================] - 1s 2ms/step - loss: 0.3566 - mae: 0.4270 - val_loss: 0.4466 - val_mae: 0.4717\n"
     ]
    }
   ],
   "source": [
    "model_history = model.fit(X_train, Y_train, epochs = 50, validation_data=(X_valid, Y_valid))"
   ]
  },
  {
   "cell_type": "code",
   "execution_count": 14,
   "id": "908f717c",
   "metadata": {},
   "outputs": [
    {
     "name": "stdout",
     "output_type": "stream",
     "text": [
      "162/162 [==============================] - 0s 2ms/step - loss: 0.4181 - mae: 0.4541\n"
     ]
    }
   ],
   "source": [
    "mae_test = model.evaluate(X_test, Y_test)"
   ]
  },
  {
   "cell_type": "code",
   "execution_count": 15,
   "id": "cad19294",
   "metadata": {},
   "outputs": [
    {
     "data": {
      "text/plain": [
       "{'loss': [1.4208852052688599,\n",
       "  0.7156656980514526,\n",
       "  0.6420419216156006,\n",
       "  0.6008450388908386,\n",
       "  0.5701907277107239,\n",
       "  0.5448587536811829,\n",
       "  0.5243102312088013,\n",
       "  0.505891740322113,\n",
       "  0.4906001389026642,\n",
       "  0.4776754081249237,\n",
       "  0.46585240960121155,\n",
       "  0.45562493801116943,\n",
       "  0.44754496216773987,\n",
       "  0.4388422966003418,\n",
       "  0.43250343203544617,\n",
       "  0.4264594614505768,\n",
       "  0.42104655504226685,\n",
       "  0.41587716341018677,\n",
       "  0.4115132987499237,\n",
       "  0.4084862172603607,\n",
       "  0.40475428104400635,\n",
       "  0.40117141604423523,\n",
       "  0.39834895730018616,\n",
       "  0.3954488933086395,\n",
       "  0.39303866028785706,\n",
       "  0.3905141055583954,\n",
       "  0.38852041959762573,\n",
       "  0.386456698179245,\n",
       "  0.38457080721855164,\n",
       "  0.3826547861099243,\n",
       "  0.38094091415405273,\n",
       "  0.3793729543685913,\n",
       "  0.3776584565639496,\n",
       "  0.37603506445884705,\n",
       "  0.3744051158428192,\n",
       "  0.3731934726238251,\n",
       "  0.3716684877872467,\n",
       "  0.3701811134815216,\n",
       "  0.36861544847488403,\n",
       "  0.36745744943618774,\n",
       "  0.36587780714035034,\n",
       "  0.3649073541164398,\n",
       "  0.36329546570777893,\n",
       "  0.36240869760513306,\n",
       "  0.36141660809516907,\n",
       "  0.3603854477405548,\n",
       "  0.3594139814376831,\n",
       "  0.3581680357456207,\n",
       "  0.35743609070777893,\n",
       "  0.35662391781806946],\n",
       " 'mae': [0.8254162073135376,\n",
       "  0.6235683560371399,\n",
       "  0.5892196893692017,\n",
       "  0.5675958395004272,\n",
       "  0.5488311052322388,\n",
       "  0.5356544852256775,\n",
       "  0.5233662724494934,\n",
       "  0.5142033696174622,\n",
       "  0.5052040815353394,\n",
       "  0.4997633099555969,\n",
       "  0.4931638538837433,\n",
       "  0.4884002208709717,\n",
       "  0.48285767436027527,\n",
       "  0.4787323474884033,\n",
       "  0.4751417338848114,\n",
       "  0.47272753715515137,\n",
       "  0.46908965706825256,\n",
       "  0.46595585346221924,\n",
       "  0.462782621383667,\n",
       "  0.4616583287715912,\n",
       "  0.45961034297943115,\n",
       "  0.457359254360199,\n",
       "  0.45579758286476135,\n",
       "  0.4531533122062683,\n",
       "  0.45238468050956726,\n",
       "  0.451016902923584,\n",
       "  0.44901877641677856,\n",
       "  0.4477595090866089,\n",
       "  0.4469178020954132,\n",
       "  0.4454139471054077,\n",
       "  0.444234699010849,\n",
       "  0.4432414174079895,\n",
       "  0.44248661398887634,\n",
       "  0.4405314326286316,\n",
       "  0.4397948086261749,\n",
       "  0.4390442371368408,\n",
       "  0.4380379021167755,\n",
       "  0.4363977313041687,\n",
       "  0.4357890486717224,\n",
       "  0.4351860582828522,\n",
       "  0.433987021446228,\n",
       "  0.43285295367240906,\n",
       "  0.43241259455680847,\n",
       "  0.43111318349838257,\n",
       "  0.4300115406513214,\n",
       "  0.42964789271354675,\n",
       "  0.4290555417537689,\n",
       "  0.427781343460083,\n",
       "  0.42758941650390625,\n",
       "  0.42704156041145325],\n",
       " 'val_loss': [0.7821665406227112,\n",
       "  0.6847680807113647,\n",
       "  0.6421698331832886,\n",
       "  0.6106540560722351,\n",
       "  0.5894973874092102,\n",
       "  0.5710358619689941,\n",
       "  0.5565417408943176,\n",
       "  0.5436727404594421,\n",
       "  0.5333166718482971,\n",
       "  0.5240048766136169,\n",
       "  0.5159667730331421,\n",
       "  0.5090757608413696,\n",
       "  0.5027934908866882,\n",
       "  0.49861037731170654,\n",
       "  0.49388304352760315,\n",
       "  0.48862022161483765,\n",
       "  0.486369788646698,\n",
       "  0.48205405473709106,\n",
       "  0.4797299802303314,\n",
       "  0.477445125579834,\n",
       "  0.4724983870983124,\n",
       "  0.4706198275089264,\n",
       "  0.46995848417282104,\n",
       "  0.46626946330070496,\n",
       "  0.4657052159309387,\n",
       "  0.4658898413181305,\n",
       "  0.46315672993659973,\n",
       "  0.4639255106449127,\n",
       "  0.4619150757789612,\n",
       "  0.45929333567619324,\n",
       "  0.4580281376838684,\n",
       "  0.45710718631744385,\n",
       "  0.45823973417282104,\n",
       "  0.4562453031539917,\n",
       "  0.45263370871543884,\n",
       "  0.453676700592041,\n",
       "  0.4539962410926819,\n",
       "  0.4506063461303711,\n",
       "  0.4510631263256073,\n",
       "  0.45237037539482117,\n",
       "  0.4493850767612457,\n",
       "  0.4497987926006317,\n",
       "  0.4496440887451172,\n",
       "  0.45254045724868774,\n",
       "  0.4498940706253052,\n",
       "  0.4498664438724518,\n",
       "  0.4465563893318176,\n",
       "  0.44740620255470276,\n",
       "  0.44621777534484863,\n",
       "  0.4465811252593994],\n",
       " 'val_mae': [0.6592526435852051,\n",
       "  0.6148545145988464,\n",
       "  0.5897279977798462,\n",
       "  0.5744572281837463,\n",
       "  0.5667442679405212,\n",
       "  0.5547303557395935,\n",
       "  0.5483489632606506,\n",
       "  0.53954017162323,\n",
       "  0.5371308326721191,\n",
       "  0.5299656391143799,\n",
       "  0.5270556211471558,\n",
       "  0.5202329754829407,\n",
       "  0.5202577710151672,\n",
       "  0.523264467716217,\n",
       "  0.5175116062164307,\n",
       "  0.5081750750541687,\n",
       "  0.5063487887382507,\n",
       "  0.5060886144638062,\n",
       "  0.5050345063209534,\n",
       "  0.501166045665741,\n",
       "  0.49915817379951477,\n",
       "  0.4971974194049835,\n",
       "  0.4936084449291229,\n",
       "  0.4945133328437805,\n",
       "  0.4917142987251282,\n",
       "  0.487975150346756,\n",
       "  0.4880771338939667,\n",
       "  0.48731452226638794,\n",
       "  0.48432832956314087,\n",
       "  0.48593106865882874,\n",
       "  0.48796916007995605,\n",
       "  0.48579928278923035,\n",
       "  0.4818453788757324,\n",
       "  0.4815622866153717,\n",
       "  0.4831388592720032,\n",
       "  0.4806247651576996,\n",
       "  0.47914958000183105,\n",
       "  0.48062118887901306,\n",
       "  0.47819826006889343,\n",
       "  0.4771362841129303,\n",
       "  0.4756345748901367,\n",
       "  0.4762883186340332,\n",
       "  0.47324636578559875,\n",
       "  0.4740971028804779,\n",
       "  0.4753893315792084,\n",
       "  0.4747051000595093,\n",
       "  0.47295770049095154,\n",
       "  0.4737371504306793,\n",
       "  0.4727489948272705,\n",
       "  0.4717303514480591]}"
      ]
     },
     "execution_count": 15,
     "metadata": {},
     "output_type": "execute_result"
    }
   ],
   "source": [
    "model_history.history"
   ]
  },
  {
   "cell_type": "code",
   "execution_count": 16,
   "id": "906e2300",
   "metadata": {},
   "outputs": [
    {
     "data": {
      "image/png": "[encoded data removed]",
      "text/plain": [
       "<Figure size 576x360 with 1 Axes>"
      ]
     },
     "metadata": {
      "needs_background": "light"
     },
     "output_type": "display_data"
    }
   ],
   "source": [
    "pd.DataFrame(model_history.history).plot(figsize = (8,5))\n",
    "plt.grid(True)\n",
    "plt.gca().set_ylim(0,1)\n",
    "\n",
    "plt.show()"
   ]
  },
  {
   "cell_type": "code",
   "execution_count": 17,
   "id": "b1591ece",
   "metadata": {},
   "outputs": [],
   "source": [
    "X_new = X_test[:3]"
   ]
  },
  {
   "cell_type": "code",
   "execution_count": 18,
   "id": "2800c561",
   "metadata": {},
   "outputs": [
    {
     "name": "stdout",
     "output_type": "stream",
     "text": [
      "1/1 [==============================] - 0s 107ms/step\n",
      "[[1.4724259]\n",
      " [3.0481858]\n",
      " [1.7869834]]\n",
      "[1.963 2.75  1.275]\n"
     ]
    }
   ],
   "source": [
    "y_pred = model.predict(X_new)\n",
    "print(y_pred)\n",
    "print(Y_test[:3])"
   ]
  }
 ],
 "metadata": {
  "kernelspec": {
   "display_name": "Python 3 (ipykernel)",
   "language": "python",
   "name": "python3"
  },
  "language_info": {
   "codemirror_mode": {
    "name": "ipython",
    "version": 3
   },
   "file_extension": ".py",
   "mimetype": "text/x-python",
   "name": "python",
   "nbconvert_exporter": "python",
   "pygments_lexer": "ipython3",
   "version": "3.9.7"
  }
 },
 "nbformat": 4,
 "nbformat_minor": 5
}
